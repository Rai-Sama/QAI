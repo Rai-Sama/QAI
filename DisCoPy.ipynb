{
  "nbformat": 4,
  "nbformat_minor": 0,
  "metadata": {
    "colab": {
      "name": "DisCoPy.ipynb",
      "provenance": [],
      "collapsed_sections": []
    },
    "kernelspec": {
      "name": "python3",
      "display_name": "Python 3"
    },
    "language_info": {
      "name": "python"
    },
    "accelerator": "GPU"
  },
  "cells": [
    {
      "cell_type": "code",
      "source": [
        "!pip install discopy"
      ],
      "metadata": {
        "colab": {
          "base_uri": "https://localhost:8080/"
        },
        "id": "T0XDSxpiYe8-",
        "outputId": "1b519806-adbb-4fdf-ef26-7d272c99048f"
      },
      "execution_count": null,
      "outputs": [
        {
          "output_type": "stream",
          "name": "stdout",
          "text": [
            "Requirement already satisfied: discopy in /usr/local/lib/python3.7/dist-packages (0.4.1)\n",
            "Requirement already satisfied: matplotlib>=3.1.2 in /usr/local/lib/python3.7/dist-packages (from discopy) (3.2.2)\n",
            "Requirement already satisfied: numpy>=1.18.1 in /usr/local/lib/python3.7/dist-packages (from discopy) (1.21.6)\n",
            "Requirement already satisfied: pillow>=6.2.1 in /usr/local/lib/python3.7/dist-packages (from discopy) (7.1.2)\n",
            "Requirement already satisfied: networkx>=2.4 in /usr/local/lib/python3.7/dist-packages (from discopy) (2.6.3)\n",
            "Requirement already satisfied: pyparsing!=2.0.4,!=2.1.2,!=2.1.6,>=2.0.1 in /usr/local/lib/python3.7/dist-packages (from matplotlib>=3.1.2->discopy) (3.0.8)\n",
            "Requirement already satisfied: kiwisolver>=1.0.1 in /usr/local/lib/python3.7/dist-packages (from matplotlib>=3.1.2->discopy) (1.4.2)\n",
            "Requirement already satisfied: cycler>=0.10 in /usr/local/lib/python3.7/dist-packages (from matplotlib>=3.1.2->discopy) (0.11.0)\n",
            "Requirement already satisfied: python-dateutil>=2.1 in /usr/local/lib/python3.7/dist-packages (from matplotlib>=3.1.2->discopy) (2.8.2)\n",
            "Requirement already satisfied: typing-extensions in /usr/local/lib/python3.7/dist-packages (from kiwisolver>=1.0.1->matplotlib>=3.1.2->discopy) (3.10.0.2)\n",
            "Requirement already satisfied: six>=1.5 in /usr/local/lib/python3.7/dist-packages (from python-dateutil>=2.1->matplotlib>=3.1.2->discopy) (1.15.0)\n"
          ]
        }
      ]
    },
    {
      "cell_type": "code",
      "source": [
        "!pip install pytket-qiskit"
      ],
      "metadata": {
        "colab": {
          "base_uri": "https://localhost:8080/"
        },
        "id": "MueCJ8hPeoNO",
        "outputId": "a6a54109-9bb5-4539-b6e7-9fcef182ee4c"
      },
      "execution_count": null,
      "outputs": [
        {
          "output_type": "stream",
          "name": "stdout",
          "text": [
            "Requirement already satisfied: pytket-qiskit in /usr/local/lib/python3.7/dist-packages (0.21.0)\n",
            "Requirement already satisfied: pytket~=0.18.0 in /usr/local/lib/python3.7/dist-packages (from pytket-qiskit) (0.18.0)\n",
            "Requirement already satisfied: qiskit~=0.33.0 in /usr/local/lib/python3.7/dist-packages (from pytket-qiskit) (0.33.1)\n",
            "Requirement already satisfied: scipy~=1.2 in /usr/local/lib/python3.7/dist-packages (from pytket~=0.18.0->pytket-qiskit) (1.7.3)\n",
            "Requirement already satisfied: jinja2~=2.11 in /usr/local/lib/python3.7/dist-packages (from pytket~=0.18.0->pytket-qiskit) (2.11.3)\n",
            "Requirement already satisfied: types-Jinja2 in /usr/local/lib/python3.7/dist-packages (from pytket~=0.18.0->pytket-qiskit) (2.11.9)\n",
            "Requirement already satisfied: lark-parser~=0.7 in /usr/local/lib/python3.7/dist-packages (from pytket~=0.18.0->pytket-qiskit) (0.12.0)\n",
            "Requirement already satisfied: graphviz~=0.14 in /usr/local/lib/python3.7/dist-packages (from pytket~=0.18.0->pytket-qiskit) (0.20)\n",
            "Requirement already satisfied: numpy~=1.19 in /usr/local/lib/python3.7/dist-packages (from pytket~=0.18.0->pytket-qiskit) (1.21.6)\n",
            "Requirement already satisfied: sympy~=1.6 in /usr/local/lib/python3.7/dist-packages (from pytket~=0.18.0->pytket-qiskit) (1.7.1)\n",
            "Requirement already satisfied: networkx~=2.4 in /usr/local/lib/python3.7/dist-packages (from pytket~=0.18.0->pytket-qiskit) (2.6.3)\n",
            "Requirement already satisfied: types-pkg-resources in /usr/local/lib/python3.7/dist-packages (from pytket~=0.18.0->pytket-qiskit) (0.1.3)\n",
            "Requirement already satisfied: typing-extensions~=3.7 in /usr/local/lib/python3.7/dist-packages (from pytket~=0.18.0->pytket-qiskit) (3.10.0.2)\n",
            "Requirement already satisfied: MarkupSafe>=0.23 in /usr/local/lib/python3.7/dist-packages (from jinja2~=2.11->pytket~=0.18.0->pytket-qiskit) (2.0.1)\n",
            "Requirement already satisfied: qiskit-ignis==0.7.0 in /usr/local/lib/python3.7/dist-packages (from qiskit~=0.33.0->pytket-qiskit) (0.7.0)\n",
            "Requirement already satisfied: qiskit-aer==0.9.1 in /usr/local/lib/python3.7/dist-packages (from qiskit~=0.33.0->pytket-qiskit) (0.9.1)\n",
            "Requirement already satisfied: qiskit-terra==0.19.1 in /usr/local/lib/python3.7/dist-packages (from qiskit~=0.33.0->pytket-qiskit) (0.19.1)\n",
            "Requirement already satisfied: qiskit-ibmq-provider==0.18.2 in /usr/local/lib/python3.7/dist-packages (from qiskit~=0.33.0->pytket-qiskit) (0.18.2)\n",
            "Requirement already satisfied: websocket-client>=1.0.1 in /usr/local/lib/python3.7/dist-packages (from qiskit-ibmq-provider==0.18.2->qiskit~=0.33.0->pytket-qiskit) (1.3.2)\n",
            "Requirement already satisfied: python-dateutil>=2.8.0 in /usr/local/lib/python3.7/dist-packages (from qiskit-ibmq-provider==0.18.2->qiskit~=0.33.0->pytket-qiskit) (2.8.2)\n",
            "Requirement already satisfied: requests>=2.19 in /usr/local/lib/python3.7/dist-packages (from qiskit-ibmq-provider==0.18.2->qiskit~=0.33.0->pytket-qiskit) (2.23.0)\n",
            "Requirement already satisfied: urllib3>=1.21.1 in /usr/local/lib/python3.7/dist-packages (from qiskit-ibmq-provider==0.18.2->qiskit~=0.33.0->pytket-qiskit) (1.24.3)\n",
            "Requirement already satisfied: requests-ntlm>=1.1.0 in /usr/local/lib/python3.7/dist-packages (from qiskit-ibmq-provider==0.18.2->qiskit~=0.33.0->pytket-qiskit) (1.1.0)\n",
            "Requirement already satisfied: retworkx>=0.8.0 in /usr/local/lib/python3.7/dist-packages (from qiskit-ignis==0.7.0->qiskit~=0.33.0->pytket-qiskit) (0.11.0)\n",
            "Requirement already satisfied: setuptools>=40.1.0 in /usr/local/lib/python3.7/dist-packages (from qiskit-ignis==0.7.0->qiskit~=0.33.0->pytket-qiskit) (57.4.0)\n",
            "Requirement already satisfied: python-constraint>=1.4 in /usr/local/lib/python3.7/dist-packages (from qiskit-terra==0.19.1->qiskit~=0.33.0->pytket-qiskit) (1.4.0)\n",
            "Requirement already satisfied: tweedledum<2.0,>=1.1 in /usr/local/lib/python3.7/dist-packages (from qiskit-terra==0.19.1->qiskit~=0.33.0->pytket-qiskit) (1.1.1)\n",
            "Requirement already satisfied: dill>=0.3 in /usr/local/lib/python3.7/dist-packages (from qiskit-terra==0.19.1->qiskit~=0.33.0->pytket-qiskit) (0.3.4)\n",
            "Requirement already satisfied: stevedore>=3.0.0 in /usr/local/lib/python3.7/dist-packages (from qiskit-terra==0.19.1->qiskit~=0.33.0->pytket-qiskit) (3.5.0)\n",
            "Requirement already satisfied: psutil>=5 in /usr/local/lib/python3.7/dist-packages (from qiskit-terra==0.19.1->qiskit~=0.33.0->pytket-qiskit) (5.4.8)\n",
            "Requirement already satisfied: symengine>=0.8 in /usr/local/lib/python3.7/dist-packages (from qiskit-terra==0.19.1->qiskit~=0.33.0->pytket-qiskit) (0.9.2)\n",
            "Requirement already satisfied: ply>=3.10 in /usr/local/lib/python3.7/dist-packages (from qiskit-terra==0.19.1->qiskit~=0.33.0->pytket-qiskit) (3.11)\n",
            "Requirement already satisfied: six>=1.5 in /usr/local/lib/python3.7/dist-packages (from python-dateutil>=2.8.0->qiskit-ibmq-provider==0.18.2->qiskit~=0.33.0->pytket-qiskit) (1.15.0)\n",
            "Requirement already satisfied: certifi>=2017.4.17 in /usr/local/lib/python3.7/dist-packages (from requests>=2.19->qiskit-ibmq-provider==0.18.2->qiskit~=0.33.0->pytket-qiskit) (2021.10.8)\n",
            "Requirement already satisfied: idna<3,>=2.5 in /usr/local/lib/python3.7/dist-packages (from requests>=2.19->qiskit-ibmq-provider==0.18.2->qiskit~=0.33.0->pytket-qiskit) (2.10)\n",
            "Requirement already satisfied: chardet<4,>=3.0.2 in /usr/local/lib/python3.7/dist-packages (from requests>=2.19->qiskit-ibmq-provider==0.18.2->qiskit~=0.33.0->pytket-qiskit) (3.0.4)\n",
            "Requirement already satisfied: ntlm-auth>=1.0.2 in /usr/local/lib/python3.7/dist-packages (from requests-ntlm>=1.1.0->qiskit-ibmq-provider==0.18.2->qiskit~=0.33.0->pytket-qiskit) (1.5.0)\n",
            "Requirement already satisfied: cryptography>=1.3 in /usr/local/lib/python3.7/dist-packages (from requests-ntlm>=1.1.0->qiskit-ibmq-provider==0.18.2->qiskit~=0.33.0->pytket-qiskit) (37.0.2)\n",
            "Requirement already satisfied: cffi>=1.12 in /usr/local/lib/python3.7/dist-packages (from cryptography>=1.3->requests-ntlm>=1.1.0->qiskit-ibmq-provider==0.18.2->qiskit~=0.33.0->pytket-qiskit) (1.15.0)\n",
            "Requirement already satisfied: pycparser in /usr/local/lib/python3.7/dist-packages (from cffi>=1.12->cryptography>=1.3->requests-ntlm>=1.1.0->qiskit-ibmq-provider==0.18.2->qiskit~=0.33.0->pytket-qiskit) (2.21)\n",
            "Requirement already satisfied: importlib-metadata>=1.7.0 in /usr/local/lib/python3.7/dist-packages (from stevedore>=3.0.0->qiskit-terra==0.19.1->qiskit~=0.33.0->pytket-qiskit) (4.11.3)\n",
            "Requirement already satisfied: pbr!=2.1.0,>=2.0.0 in /usr/local/lib/python3.7/dist-packages (from stevedore>=3.0.0->qiskit-terra==0.19.1->qiskit~=0.33.0->pytket-qiskit) (5.9.0)\n",
            "Requirement already satisfied: zipp>=0.5 in /usr/local/lib/python3.7/dist-packages (from importlib-metadata>=1.7.0->stevedore>=3.0.0->qiskit-terra==0.19.1->qiskit~=0.33.0->pytket-qiskit) (3.8.0)\n",
            "Requirement already satisfied: mpmath>=0.19 in /usr/local/lib/python3.7/dist-packages (from sympy~=1.6->pytket~=0.18.0->pytket-qiskit) (1.2.1)\n",
            "Requirement already satisfied: types-MarkupSafe in /usr/local/lib/python3.7/dist-packages (from types-Jinja2->pytket~=0.18.0->pytket-qiskit) (1.1.10)\n"
          ]
        }
      ]
    },
    {
      "cell_type": "code",
      "source": [
        "!pip install pytket"
      ],
      "metadata": {
        "colab": {
          "base_uri": "https://localhost:8080/"
        },
        "id": "5v7JghxWeu71",
        "outputId": "919c7ee4-07f3-4cb6-f4c4-3f4bfb54932d"
      },
      "execution_count": null,
      "outputs": [
        {
          "output_type": "stream",
          "name": "stdout",
          "text": [
            "Requirement already satisfied: pytket in /usr/local/lib/python3.7/dist-packages (0.18.0)\n",
            "Requirement already satisfied: networkx~=2.4 in /usr/local/lib/python3.7/dist-packages (from pytket) (2.6.3)\n",
            "Requirement already satisfied: graphviz~=0.14 in /usr/local/lib/python3.7/dist-packages (from pytket) (0.20)\n",
            "Requirement already satisfied: scipy~=1.2 in /usr/local/lib/python3.7/dist-packages (from pytket) (1.7.3)\n",
            "Requirement already satisfied: sympy~=1.6 in /usr/local/lib/python3.7/dist-packages (from pytket) (1.7.1)\n",
            "Requirement already satisfied: jinja2~=2.11 in /usr/local/lib/python3.7/dist-packages (from pytket) (2.11.3)\n",
            "Requirement already satisfied: types-pkg-resources in /usr/local/lib/python3.7/dist-packages (from pytket) (0.1.3)\n",
            "Requirement already satisfied: types-Jinja2 in /usr/local/lib/python3.7/dist-packages (from pytket) (2.11.9)\n",
            "Requirement already satisfied: lark-parser~=0.7 in /usr/local/lib/python3.7/dist-packages (from pytket) (0.12.0)\n",
            "Requirement already satisfied: typing-extensions~=3.7 in /usr/local/lib/python3.7/dist-packages (from pytket) (3.10.0.2)\n",
            "Requirement already satisfied: numpy~=1.19 in /usr/local/lib/python3.7/dist-packages (from pytket) (1.21.6)\n",
            "Requirement already satisfied: MarkupSafe>=0.23 in /usr/local/lib/python3.7/dist-packages (from jinja2~=2.11->pytket) (2.0.1)\n",
            "Requirement already satisfied: mpmath>=0.19 in /usr/local/lib/python3.7/dist-packages (from sympy~=1.6->pytket) (1.2.1)\n",
            "Requirement already satisfied: types-MarkupSafe in /usr/local/lib/python3.7/dist-packages (from types-Jinja2->pytket) (1.1.10)\n"
          ]
        }
      ]
    },
    {
      "cell_type": "markdown",
      "source": [
        "## Drawing cooking recipes"
      ],
      "metadata": {
        "id": "LNE-fj0faE0X"
      }
    },
    {
      "cell_type": "code",
      "execution_count": null,
      "metadata": {
        "id": "uoD1pkUnYQAn"
      },
      "outputs": [],
      "source": [
        "from discopy import Ob, Ty\n",
        "\n",
        "egg, white, yolk = Ty('egg'), Ty('white'), Ty('yolk')\n",
        "\n",
        "assert egg.objects == [Ob('egg')]\n",
        "assert white @ yolk == Ty(Ob('white'), Ob('yolk'))\n",
        "\n",
        "assert egg @ Ty() == egg == Ty() @ egg\n",
        "assert egg @ (white @ yolk) == (egg @ white) @ yolk"
      ]
    },
    {
      "cell_type": "code",
      "source": [
        "from discopy import Box\n",
        "\n",
        "crack = Box('crack', dom=egg, cod=white @ yolk)\n",
        "\n",
        "crack.draw(figsize=(2, 2))"
      ],
      "metadata": {
        "colab": {
          "base_uri": "https://localhost:8080/",
          "height": 175
        },
        "id": "yoTSGV_UYXag",
        "outputId": "23da1379-07af-4930-c4c7-7b53436997f3"
      },
      "execution_count": null,
      "outputs": [
        {
          "output_type": "display_data",
          "data": {
            "text/plain": [
              "<Figure size 144x144 with 1 Axes>"
            ],
            "image/png": "[encoded data removed]"
          },
          "metadata": {
            "needs_background": "light"
          }
        }
      ]
    },
    {
      "cell_type": "code",
      "source": [
        "from discopy import drawing\n",
        "\n",
        "mix = Box('mix', white @ yolk, egg)\n",
        "\n",
        "crack_tensor_mix = crack @ mix\n",
        "crack_then_mix = crack >> mix\n",
        "\n",
        "drawing.equation(crack_tensor_mix, crack_then_mix, space=2, symbol=', ', figsize=(8, 2))"
      ],
      "metadata": {
        "colab": {
          "base_uri": "https://localhost:8080/",
          "height": 175
        },
        "id": "nInHD29bYlz6",
        "outputId": "2793f24e-a92b-4a2a-a599-e4af5ab55e76"
      },
      "execution_count": null,
      "outputs": [
        {
          "output_type": "display_data",
          "data": {
            "text/plain": [
              "<Figure size 576x144 with 1 Axes>"
            ],
            "image/png": "[encoded data removed]"
          },
          "metadata": {
            "needs_background": "light"
          }
        }
      ]
    },
    {
      "cell_type": "code",
      "source": [
        "from discopy import Id\n",
        "\n",
        "assert crack >> Id(white @ yolk) == crack == Id(egg) >> crack\n",
        "assert crack @ Id(Ty()) == crack == Id(Ty()) @ crack\n",
        "\n",
        "sugar, yolky_paste = Ty('sugar'), Ty('yolky_paste')\n",
        "beat = Box('beat', yolk @ sugar, yolky_paste)\n",
        "\n",
        "crack_then_beat = crack @ Id(sugar) >> Id(white) @ beat\n",
        "\n",
        "crack_then_beat.draw(figsize=(3, 2))"
      ],
      "metadata": {
        "colab": {
          "base_uri": "https://localhost:8080/",
          "height": 175
        },
        "id": "HuscaFaBYp05",
        "outputId": "9b367419-cc8b-4e17-cefd-83bcef50875c"
      },
      "execution_count": null,
      "outputs": [
        {
          "output_type": "display_data",
          "data": {
            "text/plain": [
              "<Figure size 216x144 with 1 Axes>"
            ],
            "image/png": "[encoded data removed]"
          },
          "metadata": {
            "needs_background": "light"
          }
        }
      ]
    },
    {
      "cell_type": "code",
      "source": [
        "from discopy import Swap\n",
        "\n",
        "merge = lambda x: Box('merge', x @ x, x)\n",
        "\n",
        "crack_two_eggs = crack @ crack\\\n",
        "    >> Id(white) @ Swap(yolk, white) @ Id(yolk)\\\n",
        "    >> merge(white) @ merge(yolk)\n",
        "\n",
        "crack_two_eggs.draw(figsize=(3, 4))"
      ],
      "metadata": {
        "colab": {
          "base_uri": "https://localhost:8080/",
          "height": 319
        },
        "id": "fKuzyusAYtLR",
        "outputId": "99deaf31-e185-4cc6-8301-c4a2e1623ade"
      },
      "execution_count": null,
      "outputs": [
        {
          "output_type": "display_data",
          "data": {
            "text/plain": [
              "<Figure size 216x288 with 1 Axes>"
            ],
            "image/png": "[encoded data removed]"
          },
          "metadata": {
            "needs_background": "light"
          }
        }
      ]
    },
    {
      "cell_type": "code",
      "source": [
        "from discopy import Diagram\n",
        "\n",
        "def pretty(diagram):\n",
        "    return \"Diagram(\\n\"\\\n",
        "    + \"    dom={},\\n\".format(repr(diagram.dom))\\\n",
        "    + \"    cod={},\\n\".format(repr(diagram.cod))\\\n",
        "    + \"    boxes=[{}],\\n\".format(',\\n           '.join(map(repr, diagram.boxes)))\\\n",
        "    + \"    offsets={})\".format(diagram.offsets)\n",
        "\n",
        "assertion = \"assert crack_two_eggs == {}\".format(pretty(crack_two_eggs))\n",
        "\n",
        "exec(assertion)\n",
        "print(assertion)"
      ],
      "metadata": {
        "colab": {
          "base_uri": "https://localhost:8080/"
        },
        "id": "gQz8xftiYvgy",
        "outputId": "54f23670-6f20-4b2e-8a77-15ef22e7b03e"
      },
      "execution_count": null,
      "outputs": [
        {
          "output_type": "stream",
          "name": "stdout",
          "text": [
            "assert crack_two_eggs == Diagram(\n",
            "    dom=Ty('egg', 'egg'),\n",
            "    cod=Ty('white', 'yolk'),\n",
            "    boxes=[Box('crack', Ty('egg'), Ty('white', 'yolk')),\n",
            "           Box('crack', Ty('egg'), Ty('white', 'yolk')),\n",
            "           Swap(Ty('yolk'), Ty('white')),\n",
            "           Box('merge', Ty('white', 'white'), Ty('white')),\n",
            "           Box('merge', Ty('yolk', 'yolk'), Ty('yolk'))],\n",
            "    offsets=[0, 2, 1, 0, 1])\n"
          ]
        }
      ]
    },
    {
      "cell_type": "code",
      "source": [
        "from discopy import Functor\n",
        "\n",
        "crack2 = Box(\"crack\", egg @ egg, white @ yolk)\n",
        "\n",
        "open_crack2 = Functor(\n",
        "    ob=lambda x: x,\n",
        "    ar={crack2: crack_two_eggs, beat: beat})\n",
        "\n",
        "crack2_then_beat = crack2 @ Id(sugar) >> Id(white) @ beat\n",
        "\n",
        "drawing.equation(\n",
        "    crack2_then_beat,\n",
        "    open_crack2(crack2_then_beat),\n",
        "    symbol='$\\\\mapsto$', figsize=(7, 3.5))"
      ],
      "metadata": {
        "colab": {
          "base_uri": "https://localhost:8080/",
          "height": 283
        },
        "id": "9YTalbB0Y0hE",
        "outputId": "824390cd-5723-4c3a-d0a5-0e72d86af318"
      },
      "execution_count": null,
      "outputs": [
        {
          "output_type": "display_data",
          "data": {
            "text/plain": [
              "<Figure size 504x252 with 1 Axes>"
            ],
            "image/png": "[encoded data removed]"
          },
          "metadata": {
            "needs_background": "light"
          }
        }
      ]
    },
    {
      "cell_type": "markdown",
      "source": [
        "## Tensors as boxes"
      ],
      "metadata": {
        "id": "Z3iw6A0XaQ6o"
      }
    },
    {
      "cell_type": "code",
      "source": [
        "from discopy import Dim, Tensor\n",
        "\n",
        "matrix = Tensor(Dim(2), Dim(2), [0, 1, 1, 0])\n",
        "\n",
        "matrix.array"
      ],
      "metadata": {
        "colab": {
          "base_uri": "https://localhost:8080/"
        },
        "id": "exUyEBcBZLQz",
        "outputId": "5ef80c4e-3162-4706-fa94-fb9aaa33bce2"
      },
      "execution_count": null,
      "outputs": [
        {
          "output_type": "execute_result",
          "data": {
            "text/plain": [
              "array([[0, 1],\n",
              "       [1, 0]])"
            ]
          },
          "metadata": {},
          "execution_count": 11
        }
      ]
    },
    {
      "cell_type": "code",
      "source": [
        "assert matrix >> Tensor.id(Dim(2)) == matrix == Tensor.id(Dim(2)) >> matrix\n",
        "\n",
        "vector = Tensor(Dim(1), Dim(2), [0, 1])\n",
        "\n",
        "vector >> matrix"
      ],
      "metadata": {
        "colab": {
          "base_uri": "https://localhost:8080/"
        },
        "id": "JY7FammKZNWu",
        "outputId": "dd06037a-838e-40ad-d98d-5637f1035011"
      },
      "execution_count": null,
      "outputs": [
        {
          "output_type": "execute_result",
          "data": {
            "text/plain": [
              "Tensor(dom=Dim(1), cod=Dim(2), array=[1, 0])"
            ]
          },
          "metadata": {},
          "execution_count": 12
        }
      ]
    },
    {
      "cell_type": "code",
      "source": [
        "assert Tensor.id(Dim(1)) @ matrix == matrix == matrix @ Tensor.id(Dim(1))\n",
        "\n",
        "Tensor.id(Dim(1))"
      ],
      "metadata": {
        "colab": {
          "base_uri": "https://localhost:8080/"
        },
        "id": "4lCUdpt8ZRge",
        "outputId": "e671d00c-36ad-4a4e-c9c6-05c9e5803f0c"
      },
      "execution_count": null,
      "outputs": [
        {
          "output_type": "execute_result",
          "data": {
            "text/plain": [
              "Tensor(dom=Dim(1), cod=Dim(1), array=[1.])"
            ]
          },
          "metadata": {},
          "execution_count": 13
        }
      ]
    },
    {
      "cell_type": "code",
      "source": [
        "vector @ vector"
      ],
      "metadata": {
        "colab": {
          "base_uri": "https://localhost:8080/"
        },
        "id": "R2E6Tz0uZVg6",
        "outputId": "1e501979-a771-4de7-f2ff-603fcdc80ee8"
      },
      "execution_count": null,
      "outputs": [
        {
          "output_type": "execute_result",
          "data": {
            "text/plain": [
              "Tensor(dom=Dim(1), cod=Dim(2, 2), array=[0, 0, 0, 1])"
            ]
          },
          "metadata": {},
          "execution_count": 14
        }
      ]
    },
    {
      "cell_type": "code",
      "source": [
        "vector @ matrix"
      ],
      "metadata": {
        "colab": {
          "base_uri": "https://localhost:8080/"
        },
        "id": "dfMqTcB7ZWbI",
        "outputId": "2e2b63cc-ed34-4596-970a-31aca2338c6f"
      },
      "execution_count": null,
      "outputs": [
        {
          "output_type": "execute_result",
          "data": {
            "text/plain": [
              "Tensor(dom=Dim(2), cod=Dim(2, 2), array=[0, 0, 0, 1, 0, 0, 1, 0])"
            ]
          },
          "metadata": {},
          "execution_count": 15
        }
      ]
    },
    {
      "cell_type": "markdown",
      "source": [
        "import numpy as np\n",
        "\n",
        "assert np.all(\n",
        "    (matrix >> matrix).array == matrix.array.dot(matrix.array))\n",
        "assert np.all(\n",
        "    (matrix @ matrix).array == np.moveaxis(np.tensordot(\n",
        "    matrix.array, matrix.array, 0), range(4), [0, 2, 1, 3]))"
      ],
      "metadata": {
        "id": "M0ROBv6VZZFG"
      }
    },
    {
      "cell_type": "code",
      "source": [
        "matrix = Tensor(Dim(2), Dim(2), [0, -1j, 1j, 0])\n",
        "\n",
        "matrix >> matrix[::-1]"
      ],
      "metadata": {
        "colab": {
          "base_uri": "https://localhost:8080/"
        },
        "id": "vxhqVdEAZcYi",
        "outputId": "20b539c2-85a9-4fb7-b665-3831ad8fb9d1"
      },
      "execution_count": null,
      "outputs": [
        {
          "output_type": "execute_result",
          "data": {
            "text/plain": [
              "Tensor(dom=Dim(2), cod=Dim(2), array=[1.+0.j, 0.+0.j, 0.+0.j, 1.+0.j])"
            ]
          },
          "metadata": {},
          "execution_count": 16
        }
      ]
    },
    {
      "cell_type": "code",
      "source": [
        "vector1 = Tensor(Dim(1), Dim(2), [-1j, 1j])\n",
        "\n",
        "vector >> vector1[::-1]"
      ],
      "metadata": {
        "colab": {
          "base_uri": "https://localhost:8080/"
        },
        "id": "Bd1-Wv-IZevu",
        "outputId": "1850771d-1bbc-4c98-a723-4ea044e3df37"
      },
      "execution_count": null,
      "outputs": [
        {
          "output_type": "execute_result",
          "data": {
            "text/plain": [
              "Tensor(dom=Dim(1), cod=Dim(1), array=[0.-1.j])"
            ]
          },
          "metadata": {},
          "execution_count": 17
        }
      ]
    },
    {
      "cell_type": "code",
      "source": [
        "vector + vector"
      ],
      "metadata": {
        "colab": {
          "base_uri": "https://localhost:8080/"
        },
        "id": "Zu7lmVdQZgxu",
        "outputId": "fb32a151-7756-4047-dae4-3e599ca7ad47"
      },
      "execution_count": null,
      "outputs": [
        {
          "output_type": "execute_result",
          "data": {
            "text/plain": [
              "Tensor(dom=Dim(1), cod=Dim(2), array=[0, 2])"
            ]
          },
          "metadata": {},
          "execution_count": 18
        }
      ]
    },
    {
      "cell_type": "code",
      "source": [
        "zero = Tensor.zeros(Dim(1), Dim(2))\n",
        "assert vector + zero == vector == zero + vector"
      ],
      "metadata": {
        "id": "bTYgfmodZikS"
      },
      "execution_count": null,
      "outputs": []
    },
    {
      "cell_type": "code",
      "source": [
        "swap = Tensor.swap(Dim(2), Dim(3))\n",
        "\n",
        "assert swap.dom == Dim(2) @ Dim(3) and swap.cod == Dim(3) @ Dim(2)\n",
        "assert swap >> swap[::-1] == Tensor.id(Dim(2, 3))\n",
        "assert swap[::-1] >> swap == Tensor.id(Dim(3, 2))\n",
        "\n",
        "matrix1 = Tensor(Dim(3), Dim(3), list(range(9)))\n",
        "\n",
        "assert vector @ matrix1 >> swap == matrix1 @ vector\n",
        "assert swap >> matrix1 @ matrix >> swap[::-1] == matrix @ matrix1"
      ],
      "metadata": {
        "id": "Lyb0fB_DZlDX"
      },
      "execution_count": null,
      "outputs": []
    },
    {
      "cell_type": "code",
      "source": [
        "cup, cap = Tensor.cups(Dim(2), Dim(2)), Tensor.caps(Dim(2), Dim(2))\n",
        "\n",
        "print(\"cup == {}\".format(cup))\n",
        "print(\"cap == {}\".format(cap))"
      ],
      "metadata": {
        "colab": {
          "base_uri": "https://localhost:8080/"
        },
        "id": "CXmfaPi6ZnD6",
        "outputId": "5c2841f5-21fa-471e-a769-50554493dab5"
      },
      "execution_count": null,
      "outputs": [
        {
          "output_type": "stream",
          "name": "stdout",
          "text": [
            "cup == Tensor(dom=Dim(2, 2), cod=Dim(1), array=[1., 0., 0., 1.])\n",
            "cap == Tensor(dom=Dim(1), cod=Dim(2, 2), array=[1., 0., 0., 1.])\n"
          ]
        }
      ]
    },
    {
      "cell_type": "code",
      "source": [
        "_id = Tensor.id(Dim(2))\n",
        "\n",
        "assert cap @ _id >> _id @ cup == _id == _id @ cap >> cup @ _id"
      ],
      "metadata": {
        "id": "aOb5jThqZo3J"
      },
      "execution_count": null,
      "outputs": []
    },
    {
      "cell_type": "code",
      "source": [
        "drawing.equation(cap @ _id >> _id @ cup, _id, _id @ cap >> cup @ _id, figsize=(5, 1))"
      ],
      "metadata": {
        "colab": {
          "base_uri": "https://localhost:8080/",
          "height": 103
        },
        "id": "Fw0VQJmBZvBS",
        "outputId": "9c5d635d-8da1-46fb-aca6-a47a2d48723b"
      },
      "execution_count": null,
      "outputs": [
        {
          "output_type": "display_data",
          "data": {
            "text/plain": [
              "<Figure size 360x72 with 1 Axes>"
            ],
            "image/png": "[encoded data removed]"
          },
          "metadata": {
            "needs_background": "light"
          }
        }
      ]
    },
    {
      "cell_type": "code",
      "source": [
        "from discopy import Cup, Cap\n",
        "\n",
        "left_snake = Cap(Dim(2), Dim(2)) @ Id(Dim(2)) >> Id(Dim(2)) @ Cup(Dim(2), Dim(2))\n",
        "right_snake = Id(Dim(2)) @ Cap(Dim(2), Dim(2)) >> Cup(Dim(2), Dim(2)) @ Id(Dim(2))\n",
        "\n",
        "drawing.equation(left_snake, Id(Dim(2)), right_snake, figsize=(5, 2), draw_type_labels=False)"
      ],
      "metadata": {
        "colab": {
          "base_uri": "https://localhost:8080/",
          "height": 175
        },
        "id": "ed8j-DS_Zw9t",
        "outputId": "20d90540-ad75-4780-9223-0b9847026465"
      },
      "execution_count": null,
      "outputs": [
        {
          "output_type": "display_data",
          "data": {
            "text/plain": [
              "<Figure size 360x144 with 1 Axes>"
            ],
            "image/png": "[encoded data removed]"
          },
          "metadata": {
            "needs_background": "light"
          }
        }
      ]
    },
    {
      "cell_type": "code",
      "source": [
        "from discopy import tensor\n",
        "\n",
        "_eval = tensor.Functor(\n",
        "    ob=lambda x: x,\n",
        "    ar=lambda f: f)\n",
        "\n",
        "assert _eval(left_snake) == _eval(Id(Dim(2))) == _eval(right_snake)\n"
      ],
      "metadata": {
        "id": "6cGSf9AlZ0VV"
      },
      "execution_count": null,
      "outputs": []
    },
    {
      "cell_type": "code",
      "source": [
        "f = tensor.Box(\"$f$\", Dim(2), Dim(2), [1, 2, 3, 4])\n",
        "f_T = tensor.Box(\"$f^T$\", Dim(2), Dim(2), [1, 3, 2, 4])\n",
        "\n",
        "diagram = tensor.Diagram(\n",
        "    dom=Dim(2), cod=Dim(2),\n",
        "    boxes=[Cap(Dim(2), Dim(2)), f, Cup(Dim(2), Dim(2))],\n",
        "    offsets=[0, 1, 1])\n",
        "\n",
        "drawing.equation(f_T, diagram, figsize=(3, 2), fontsize=14, draw_type_labels=False)\n",
        "\n",
        "assert not f_T == diagram\n",
        "assert f_T.eval() == diagram.eval()"
      ],
      "metadata": {
        "colab": {
          "base_uri": "https://localhost:8080/",
          "height": 175
        },
        "id": "RIh52a59Z23x",
        "outputId": "e0ec3216-fba8-479b-abcd-6c78c83daa46"
      },
      "execution_count": null,
      "outputs": [
        {
          "output_type": "display_data",
          "data": {
            "text/plain": [
              "<Figure size 216x144 with 1 Axes>"
            ],
            "image/png": "[encoded data removed]"
          },
          "metadata": {
            "needs_background": "light"
          }
        }
      ]
    },
    {
      "cell_type": "code",
      "source": [
        "%timeit diagram.eval()"
      ],
      "metadata": {
        "colab": {
          "base_uri": "https://localhost:8080/"
        },
        "id": "wPwdUDlJZ4nl",
        "outputId": "d47ca698-86f7-432b-decd-433d1de405da"
      },
      "execution_count": null,
      "outputs": [
        {
          "output_type": "stream",
          "name": "stdout",
          "text": [
            "100 loops, best of 5: 8.18 ms per loop\n"
          ]
        }
      ]
    },
    {
      "cell_type": "code",
      "source": [
        "%timeit f_T.eval()"
      ],
      "metadata": {
        "colab": {
          "base_uri": "https://localhost:8080/"
        },
        "id": "vdcm3yMqZ6pN",
        "outputId": "bb4507cc-49ca-445a-8e58-d4986c892176"
      },
      "execution_count": null,
      "outputs": [
        {
          "output_type": "stream",
          "name": "stdout",
          "text": [
            "1000 loops, best of 5: 321 µs per loop\n"
          ]
        }
      ]
    },
    {
      "cell_type": "markdown",
      "source": [
        "## Drawing quantum circuits"
      ],
      "metadata": {
        "id": "F7X6nLEFaWTv"
      }
    },
    {
      "cell_type": "code",
      "source": [
        "import numpy as np\n",
        "from discopy.quantum import qubit, H, Id, CX, QuantumGate\n",
        "\n",
        "assert H == QuantumGate(\"H\", 1, 1 / np.sqrt(2) * np.array([1, 1, 1, -1]), _dagger=None)\n",
        "\n",
        "circuit = H @ Id(qubit) >> CX\n",
        "\n",
        "circuit.draw(figsize=(2, 2), draw_type_labels=True, margins=(.1, .1))"
      ],
      "metadata": {
        "colab": {
          "base_uri": "https://localhost:8080/",
          "height": 175
        },
        "id": "rBZCrJPUaboH",
        "outputId": "31ce1b49-491b-4c68-bfe3-411d3c2c8d01"
      },
      "execution_count": null,
      "outputs": [
        {
          "output_type": "display_data",
          "data": {
            "text/plain": [
              "<Figure size 144x144 with 1 Axes>"
            ],
            "image/png": "[encoded data removed]"
          },
          "metadata": {
            "needs_background": "light"
          }
        }
      ]
    },
    {
      "cell_type": "code",
      "source": [
        "assert H.eval() == H.array\n",
        "assert Id(qubit).eval() == Tensor.id(Dim(2))\n",
        "\n",
        "assert circuit.eval() == H.eval() @ Id(qubit).eval() >> CX.eval()"
      ],
      "metadata": {
        "id": "kbmNwRxlaeM7"
      },
      "execution_count": null,
      "outputs": []
    },
    {
      "cell_type": "code",
      "source": [
        "print(circuit[::-1])\n",
        "circuit[::-1].draw(figsize=(2, 2), margins=(.1,.1))"
      ],
      "metadata": {
        "colab": {
          "base_uri": "https://localhost:8080/",
          "height": 192
        },
        "id": "Ip3I8melagIi",
        "outputId": "946fed03-89ab-449c-8807-5d4a8ee7742a"
      },
      "execution_count": null,
      "outputs": [
        {
          "output_type": "stream",
          "name": "stdout",
          "text": [
            "CX >> H @ Id(1)\n"
          ]
        },
        {
          "output_type": "display_data",
          "data": {
            "text/plain": [
              "<Figure size 144x144 with 1 Axes>"
            ],
            "image/png": "[encoded data removed]"
          },
          "metadata": {
            "needs_background": "light"
          }
        }
      ]
    },
    {
      "cell_type": "code",
      "source": [
        "assert (CX >> CX[::-1]).eval() == Id(qubit ** 2).eval()\n",
        "assert np.all(np.isclose((H >> H[::-1]).eval(), Id(qubit).eval()))"
      ],
      "metadata": {
        "id": "Q_rN_6YHah5i"
      },
      "execution_count": null,
      "outputs": []
    },
    {
      "cell_type": "code",
      "source": [
        "from discopy.quantum import Ket\n",
        "\n",
        "(Ket(0, 0) >> circuit).draw(figsize=(2, 2.5))"
      ],
      "metadata": {
        "colab": {
          "base_uri": "https://localhost:8080/",
          "height": 211
        },
        "id": "ZeprM088aj9z",
        "outputId": "20fbea3a-8d3c-4d0e-bc74-b1e8f12eef37"
      },
      "execution_count": null,
      "outputs": [
        {
          "output_type": "display_data",
          "data": {
            "text/plain": [
              "<Figure size 144x180 with 1 Axes>"
            ],
            "image/png": "[encoded data removed]"
          },
          "metadata": {
            "needs_background": "light"
          }
        }
      ]
    },
    {
      "cell_type": "code",
      "source": [
        "(Ket(0, 0) >> circuit).eval()"
      ],
      "metadata": {
        "colab": {
          "base_uri": "https://localhost:8080/"
        },
        "id": "ySTa_SbTamUe",
        "outputId": "c94f9b00-bf43-4e08-ff44-d3ce66c3c118"
      },
      "execution_count": null,
      "outputs": [
        {
          "output_type": "execute_result",
          "data": {
            "text/plain": [
              "Tensor(dom=Dim(1), cod=Dim(2, 2), array=[0.70710678+0.j, 0.    +0.j, 0.    +0.j, 0.70710678+0.j])"
            ]
          },
          "metadata": {},
          "execution_count": 34
        }
      ]
    },
    {
      "cell_type": "code",
      "source": [
        "from discopy.quantum import Bra\n",
        "\n",
        "experiment = Ket(0, 0) >> circuit >> Bra(0, 0)\n",
        "\n",
        "print(\"amplitude:\")\n",
        "experiment.draw(figsize=(2, 3))\n",
        "amplitude = experiment.eval().array\n",
        "\n",
        "probability = abs(amplitude) ** 2\n",
        "print(\"probability: {}\".format(probability))"
      ],
      "metadata": {
        "colab": {
          "base_uri": "https://localhost:8080/",
          "height": 282
        },
        "id": "ixDLF52faoab",
        "outputId": "800b4e8a-71c2-4714-b789-e0ac22c8c6b6"
      },
      "execution_count": null,
      "outputs": [
        {
          "output_type": "stream",
          "name": "stdout",
          "text": [
            "amplitude:\n"
          ]
        },
        {
          "output_type": "display_data",
          "data": {
            "text/plain": [
              "<Figure size 144x216 with 1 Axes>"
            ],
            "image/png": "[encoded data removed]"
          },
          "metadata": {
            "needs_background": "light"
          }
        },
        {
          "output_type": "stream",
          "name": "stdout",
          "text": [
            "probability: 0.4999999999999999\n"
          ]
        }
      ]
    },
    {
      "cell_type": "code",
      "source": [
        "from discopy.quantum import Measure, Discard\n",
        "\n",
        "print(Discard().eval())\n",
        "print(Measure().eval())"
      ],
      "metadata": {
        "colab": {
          "base_uri": "https://localhost:8080/"
        },
        "id": "JfKMwlieaqWO",
        "outputId": "67b9117f-cd73-4f25-b663-dbafac719bb0"
      },
      "execution_count": null,
      "outputs": [
        {
          "output_type": "stream",
          "name": "stdout",
          "text": [
            "CQMap(dom=Q(Dim(2)), cod=CQ(), array=[1.+0.j, 0.+0.j, 0.+0.j, 1.+0.j])\n",
            "CQMap(dom=Q(Dim(2)), cod=C(Dim(2)), array=[1.+0.j, 0.+0.j, 0.+0.j, 0.+0.j, 0.+0.j, 0.+0.j, 0.+0.j, 1.+0.j])\n"
          ]
        }
      ]
    },
    {
      "cell_type": "code",
      "source": [
        "(Ket(0, 0) >> circuit >> Measure() @ Discard()).draw(figsize=(2, 4))\n",
        "(Ket(0, 0) >> circuit >> Measure() @ Discard()).eval()"
      ],
      "metadata": {
        "colab": {
          "base_uri": "https://localhost:8080/",
          "height": 336
        },
        "id": "34H6-D0Ta0LC",
        "outputId": "a9acb550-c029-466e-eb35-3f2acd8c156a"
      },
      "execution_count": null,
      "outputs": [
        {
          "output_type": "display_data",
          "data": {
            "text/plain": [
              "<Figure size 144x288 with 1 Axes>"
            ],
            "image/png": "[encoded data removed]"
          },
          "metadata": {
            "needs_background": "light"
          }
        },
        {
          "output_type": "execute_result",
          "data": {
            "text/plain": [
              "CQMap(dom=CQ(), cod=C(Dim(2)), array=[0.5+0.j, 0.5+0.j])"
            ]
          },
          "metadata": {},
          "execution_count": 37
        }
      ]
    },
    {
      "cell_type": "code",
      "source": [
        ""
      ],
      "metadata": {
        "id": "9S_GHJxra7-2"
      },
      "execution_count": null,
      "outputs": []
    },
    {
      "cell_type": "code",
      "source": [
        "from discopy.quantum import SWAP\n",
        "\n",
        "circuit.to_tk()"
      ],
      "metadata": {
        "colab": {
          "base_uri": "https://localhost:8080/"
        },
        "id": "j_8uP990a16P",
        "outputId": "a37b2dbe-b726-44d6-9662-5f2b724e759e"
      },
      "execution_count": null,
      "outputs": [
        {
          "output_type": "execute_result",
          "data": {
            "text/plain": [
              "tk.Circuit(2).H(0).CX(0, 1)"
            ]
          },
          "metadata": {},
          "execution_count": 38
        }
      ]
    },
    {
      "cell_type": "code",
      "source": [
        "(SWAP >> circuit >> SWAP).to_tk()"
      ],
      "metadata": {
        "colab": {
          "base_uri": "https://localhost:8080/"
        },
        "id": "vYpihoJPa34-",
        "outputId": "a0d9fa27-36c8-4844-82d1-84ec8143f56e"
      },
      "execution_count": null,
      "outputs": [
        {
          "output_type": "execute_result",
          "data": {
            "text/plain": [
              "tk.Circuit(2).H(1).CX(1, 0)"
            ]
          },
          "metadata": {},
          "execution_count": 39
        }
      ]
    },
    {
      "cell_type": "code",
      "source": [
        ""
      ],
      "metadata": {
        "id": "vn1xT1r9bTG4"
      },
      "execution_count": null,
      "outputs": []
    },
    {
      "cell_type": "code",
      "source": [
        "from pytket.extensions.qiskit import AerBackend\n",
        "\n",
        "aer = AerBackend()\n",
        "\n",
        "(circuit >> Measure() @ Discard()).eval(backend=aer)"
      ],
      "metadata": {
        "colab": {
          "base_uri": "https://localhost:8080/"
        },
        "id": "ErOSW7MIbCbV",
        "outputId": "5c25362e-9b64-4938-efcc-b713c60e1c2c"
      },
      "execution_count": null,
      "outputs": [
        {
          "output_type": "execute_result",
          "data": {
            "text/plain": [
              "Tensor(dom=Dim(1), cod=Dim(2), array=[0.48242188+0.j, 0.51757812+0.j])"
            ]
          },
          "metadata": {},
          "execution_count": 40
        }
      ]
    },
    {
      "cell_type": "markdown",
      "source": [
        "## Drawing grammatical structure"
      ],
      "metadata": {
        "id": "bMfbOM4ibZ0w"
      }
    },
    {
      "cell_type": "code",
      "source": [
        "from discopy import Ty, Id, Word, Cup, pregroup\n",
        "\n",
        "n, s = Ty('n'), Ty('s')\n",
        "\n",
        "Alice = Word(\"Alice\", n)\n",
        "loves = Word(\"loves\", n.r @ s @ n.l)\n",
        "Bob = Word(\"Bob\", n)\n",
        "\n",
        "grammar = Cup(n, n.r) @ Id(s) @ Cup(n.l, n)\n",
        "\n",
        "sentence = Alice @ loves @ Bob >> grammar\n",
        "pregroup.draw(sentence, figsize=(5, 5))"
      ],
      "metadata": {
        "colab": {
          "base_uri": "https://localhost:8080/",
          "height": 161
        },
        "id": "CNhVT0QBbFQv",
        "outputId": "6d0ca13c-2603-4823-de0e-d4b3a223299e"
      },
      "execution_count": null,
      "outputs": [
        {
          "output_type": "display_data",
          "data": {
            "text/plain": [
              "<Figure size 360x360 with 1 Axes>"
            ],
            "image/png": "[encoded data removed]"
          },
          "metadata": {
            "needs_background": "light"
          }
        }
      ]
    },
    {
      "cell_type": "code",
      "source": [
        "F = tensor.Functor(\n",
        "    ob={n: 2, s: 1},\n",
        "    ar={Alice: [0, 1], loves: [0, 1, 1, 0], Bob: [1, 0]})\n",
        "\n",
        "print(F(Alice @ loves @ Bob))\n",
        "print(F(grammar))\n",
        "\n",
        "assert F(Alice @ loves @ Bob >> grammar) == 1"
      ],
      "metadata": {
        "colab": {
          "base_uri": "https://localhost:8080/"
        },
        "id": "xerNlhNEcMHV",
        "outputId": "7f94b4a2-80c1-4fb1-95d3-f5acd803243a"
      },
      "execution_count": null,
      "outputs": [
        {
          "output_type": "stream",
          "name": "stdout",
          "text": [
            "Tensor(dom=Dim(1), cod=Dim(2, 2, 2, 2), array=[0., 0., 0., 0., 0., 0., 0., 0., 0., 0., 1., 0., 1., 0., 0., 0.])\n",
            "Tensor(dom=Dim(2, 2, 2, 2), cod=Dim(1), array=[1., 0., 0., 1., 0., 0., 0., 0., 0., 0., 0., 0., 1., 0., 0., 1.])\n"
          ]
        }
      ]
    },
    {
      "cell_type": "code",
      "source": [
        "assert not F(Alice) >> F(Bob)[::-1]\n",
        "\n",
        "drawing.equation(Alice, Bob, symbol=\"$\\\\neq$\", figsize=(3, 1))"
      ],
      "metadata": {
        "colab": {
          "base_uri": "https://localhost:8080/",
          "height": 103
        },
        "id": "iR3ml2focP-Z",
        "outputId": "36aa42fe-e937-4b08-b722-879131c9269f"
      },
      "execution_count": null,
      "outputs": [
        {
          "output_type": "display_data",
          "data": {
            "text/plain": [
              "<Figure size 216x72 with 1 Axes>"
            ],
            "image/png": "[encoded data removed]"
          },
          "metadata": {
            "needs_background": "light"
          }
        }
      ]
    },
    {
      "cell_type": "code",
      "source": [
        "rich, man = Word(\"rich\", n @ n.l), Word(\"man\", n)\n",
        "\n",
        "F.ar[rich], F.ar[man] = [1, 0, 0, 0], [1, 0]\n",
        "\n",
        "rich_man = rich @ man >> Id(n) @ Cup(n.l, n)\n",
        "\n",
        "assert F(Bob) >> F(rich_man)[::-1]  # i.e. Bob is a rich man.\n",
        "\n",
        "drawing.equation(Bob, rich_man, figsize=(5, 1))"
      ],
      "metadata": {
        "colab": {
          "base_uri": "https://localhost:8080/",
          "height": 103
        },
        "id": "TMpWX32ocSqm",
        "outputId": "673338db-031e-44c7-a0bc-367494041495"
      },
      "execution_count": null,
      "outputs": [
        {
          "output_type": "display_data",
          "data": {
            "text/plain": [
              "<Figure size 360x72 with 1 Axes>"
            ],
            "image/png": "[encoded data removed]"
          },
          "metadata": {
            "needs_background": "light"
          }
        }
      ]
    },
    {
      "cell_type": "code",
      "source": [
        "q = Ty('q')\n",
        "\n",
        "Who = Word(\"Who\", q @ s.l @ n)\n",
        "\n",
        "F.ob[q], F.ar[Who] = 2, [1, 0, 0, 1]\n",
        "\n",
        "question = Who @ loves @ Bob\\\n",
        "    >> Id(q @ s.l) @ Cup(n, n.r) @ Id(s) @ Cup(n.l, n)\\\n",
        "    >> Id(q) @ Cup(s.l, s)\n",
        "\n",
        "answer = Alice\n",
        "\n",
        "assert F(question) == F(answer)\n",
        "\n",
        "drawing.equation(question, answer, figsize=(6, 2))"
      ],
      "metadata": {
        "colab": {
          "base_uri": "https://localhost:8080/",
          "height": 175
        },
        "id": "hedmeEKVcUs2",
        "outputId": "afe7774f-aa7b-40fc-8f74-e9c78adb3502"
      },
      "execution_count": null,
      "outputs": [
        {
          "output_type": "display_data",
          "data": {
            "text/plain": [
              "<Figure size 432x144 with 1 Axes>"
            ],
            "image/png": "[encoded data removed]"
          },
          "metadata": {
            "needs_background": "light"
          }
        }
      ]
    },
    {
      "cell_type": "markdown",
      "source": [
        "## Implementation: QNLP"
      ],
      "metadata": {
        "id": "LMWlOwhQcZZH"
      }
    },
    {
      "cell_type": "code",
      "source": [
        "from discopy.quantum import circuit, qubit, sqrt, X\n",
        "\n",
        "F_ = circuit.Functor(\n",
        "    ob={s: Ty(), n: qubit},\n",
        "    ar={Alice: Ket(0),\n",
        "        loves: sqrt(2) @ Ket(0, 0) >> H @ X >> CX,\n",
        "        Bob: Ket(1)})\n",
        "\n",
        "F_(sentence).draw(figsize=(6, 6))\n",
        "\n",
        "assert F_(sentence).eval() == F(sentence)"
      ],
      "metadata": {
        "colab": {
          "base_uri": "https://localhost:8080/",
          "height": 463
        },
        "id": "DYretAkxcW7m",
        "outputId": "718e13b1-5f6d-401e-c986-d5d762ea9fee"
      },
      "execution_count": null,
      "outputs": [
        {
          "output_type": "display_data",
          "data": {
            "text/plain": [
              "<Figure size 432x432 with 1 Axes>"
            ],
            "image/png": "[encoded data removed]"
          },
          "metadata": {
            "needs_background": "light"
          }
        }
      ]
    },
    {
      "cell_type": "markdown",
      "source": [
        "# QNLP Experiment : Quantum Hardware experiment"
      ],
      "metadata": {
        "id": "z_f5h8R0crO2"
      }
    },
    {
      "cell_type": "code",
      "source": [
        "from discopy import Ty, Word\n",
        "\n",
        "s, n = Ty('s'), Ty('n')\n",
        "Alice = Word('Alice', n)\n",
        "loves = Word('loves', n.r @ s @ n.l)\n",
        "Bob =  Word('Bob', n)\n",
        "who = Word('who', n.r @ n @ s.l @ n)\n",
        "is_rich = Word('is rich', n.r @ s)\n",
        "is_famous = Word('is famous', n.r @ s)\n",
        "wears = Word('wears', n.r @ s @ n.l)\n",
        "blue = Word('blue', n @ n.l )\n",
        "hats = Word('hats',n)\n",
        "shows = Word('shows', n.r @ s @ n.l)\n",
        "calls = Word('calls', n.r @ s @ n.l )\n",
        "an_d = Word('and',n.r @ n @ n.l)\n",
        "are = Word('are',n.r @ s @ n.l)\n",
        "tells = Word('tells',n.r @ s @n.l)\n",
        "cats = Word('Cats',n)\n",
        "vocab = [Alice, loves, Bob, who, is_rich, is_famous,wears,blue,hats,shows,calls,an_d,are,tells,cats]"
      ],
      "metadata": {
        "id": "B8HIW-xgchVF"
      },
      "execution_count": null,
      "outputs": []
    },
    {
      "cell_type": "code",
      "source": [
        "from time import time\n",
        "from discopy.grammar import brute_force\n",
        "\n",
        "gen, n_sentences = brute_force(*vocab), 500\n",
        "sentences, parsing = list(), dict()\n",
        "\n",
        "print(\"Brute force search for grammatical sentences:\")\n",
        "\n",
        "start = time()\n",
        "for i in range(n_sentences):\n",
        "    diagram = next(gen)\n",
        "    sentence = ' '.join(str(w)\n",
        "        for w in diagram.boxes if isinstance(w, Word)) + '.'\n",
        "    sentences.append(sentence)\n",
        "    parsing.update({sentence: diagram})\n",
        "    #print(sentence)\n",
        "\n",
        "print(\"\\n{:.2f} seconds to generate {} sentences.\".format(time() - start, n_sentences))"
      ],
      "metadata": {
        "colab": {
          "base_uri": "https://localhost:8080/"
        },
        "id": "Z_YKkoyqc0ro",
        "outputId": "033dfc14-1c79-470e-fdf1-d20462d0db4f"
      },
      "execution_count": null,
      "outputs": [
        {
          "output_type": "stream",
          "name": "stdout",
          "text": [
            "Brute force search for grammatical sentences:\n",
            "\n",
            "219.37 seconds to generate 500 sentences.\n"
          ]
        }
      ]
    },
    {
      "cell_type": "code",
      "source": [
        "from discopy.grammar import draw\n",
        "print(\"Diagram for 'Alice who loves Bob is rich.':\")\n",
        "draw(parsing['Alice who loves Bob is rich.'], draw_type_labels=False)"
      ],
      "metadata": {
        "colab": {
          "base_uri": "https://localhost:8080/",
          "height": 210
        },
        "id": "GN4H-Sxzc3CB",
        "outputId": "597d1119-dd58-4012-d63e-be07dddc5faf"
      },
      "execution_count": null,
      "outputs": [
        {
          "output_type": "stream",
          "name": "stdout",
          "text": [
            "Diagram for 'Alice who loves Bob is rich.':\n"
          ]
        },
        {
          "output_type": "display_data",
          "data": {
            "text/plain": [
              "<Figure size 432x288 with 1 Axes>"
            ],
            "image/png": "[encoded data removed]"
          },
          "metadata": {
            "needs_background": "light"
          }
        }
      ]
    },
    {
      "cell_type": "code",
      "source": [
        "from discopy.quantum import Circuit, sqrt, Ket, H, Rx, CX, SWAP\n",
        "\n",
        "# Ansatz for words with type `n`, e.g. 'Alice', 'Bob'\n",
        "def intransitive_ansatz(phase):\n",
        "    return Ket(0) >> Rx(phase)\n",
        "\n",
        "# Ansatz for words with type `n.r @ s @ n.l`, e.g. 'loves'\n",
        "def transitive_ansatz(phase):\n",
        "    return sqrt(2) @ Ket(0, 0) >> H @ Rx(phase) >> CX\n",
        "\n",
        "GHZ = sqrt(2) @ Ket(0, 0, 0)\\\n",
        "    >> Circuit.id(1) @ H @ Circuit.id(1)\\\n",
        "    >> Circuit.id(1) @ CX\\\n",
        "    >> (SWAP >>  CX) @ Circuit.id(1)\n",
        "\n",
        "print(\"Circuit for the GHZ state, used as ansatz for \\\"who\\\":\")\n",
        "GHZ.draw(aspect='auto', draw_type_labels=False)"
      ],
      "metadata": {
        "colab": {
          "base_uri": "https://localhost:8080/",
          "height": 336
        },
        "id": "s2EfITrGc83i",
        "outputId": "763b210e-808a-4b71-ecc7-68353861ef42"
      },
      "execution_count": null,
      "outputs": [
        {
          "output_type": "stream",
          "name": "stdout",
          "text": [
            "Circuit for the GHZ state, used as ansatz for \"who\":\n"
          ]
        },
        {
          "output_type": "display_data",
          "data": {
            "text/plain": [
              "<Figure size 432x288 with 1 Axes>"
            ],
            "image/png": "[encoded data removed]"
          },
          "metadata": {
            "needs_background": "light"
          }
        }
      ]
    },
    {
      "cell_type": "code",
      "source": [
        "import numpy as np\n",
        "from discopy import CircuitFunctor, qubit\n",
        "\n",
        "F = lambda params: CircuitFunctor(\n",
        "    ob={s: qubit ** 0, n: qubit ** 1},\n",
        "    ar={Alice: Ket(0),\n",
        "        loves: transitive_ansatz(params[0]),\n",
        "        Bob: Ket(1),\n",
        "        who: GHZ,\n",
        "        is_rich: intransitive_ansatz(params[1]),\n",
        "        is_famous: intransitive_ansatz(params[1]),\n",
        "        wears: transitive_ansatz(params[0]),\n",
        "        blue:transitive_ansatz(params[0]),\n",
        "        hats: Ket(1),\n",
        "        shows :transitive_ansatz(params[0]) ,\n",
        "        calls : transitive_ansatz(params[0]),\n",
        "        an_d:GHZ,\n",
        "        are:transitive_ansatz(params[0]),\n",
        "        tells:transitive_ansatz(params[0]),\n",
        "        cats:Ket(1),\n",
        "        })\n",
        "\n",
        "params0 = np.array([0.5, 1.0])\n",
        "print(\"Circuit for 'Alice who loves Bob is rich.':\")\n",
        "circuit = F(params0)(parsing['Alice who loves Bob is rich.'])\n",
        "circuit.draw(figsize=(10, 8), aspect='auto', draw_type_labels=False)"
      ],
      "metadata": {
        "colab": {
          "base_uri": "https://localhost:8080/",
          "height": 624
        },
        "id": "GKhGq_vac_A8",
        "outputId": "10c17f79-930e-4068-cd53-ec8e46a07794"
      },
      "execution_count": null,
      "outputs": [
        {
          "output_type": "stream",
          "name": "stdout",
          "text": [
            "Circuit for 'Alice who loves Bob is rich.':\n"
          ]
        },
        {
          "output_type": "display_data",
          "data": {
            "text/plain": [
              "<Figure size 720x576 with 1 Axes>"
            ],
            "image/png": "[encoded data removed]"
          },
          "metadata": {
            "needs_background": "light"
          }
        }
      ]
    },
    {
      "cell_type": "code",
      "source": [
        "from pytket.extensions.qiskit import tk_to_qiskit\n",
        "\n",
        "tk_circ = circuit.to_tk()\n",
        "print(\"{}:\\n{}\\n\".format(tk_circ, '\\n'.join(map(str, tk_circ))))\n",
        "print(\"post selection:\\n{}\\n\".format(tk_circ.post_selection))\n",
        "print(\"scalar:\\n{}\\n\".format(tk_circ.scalar))\n",
        "print(\"qiskit circuit:\")\n",
        "tk_to_qiskit(tk_circ).draw()"
      ],
      "metadata": {
        "id": "NC1htdehdB1B",
        "colab": {
          "base_uri": "https://localhost:8080/",
          "height": 882
        },
        "outputId": "c700f474-4e9c-4e9a-d932-896eae807e30"
      },
      "execution_count": null,
      "outputs": [
        {
          "output_type": "stream",
          "name": "stdout",
          "text": [
            "<tket::Circuit, qubits=8, gates=24>:\n",
            "H q[1];\n",
            "H q[4];\n",
            "Rx(1) q[5];\n",
            "X q[6];\n",
            "Rx(2) q[7];\n",
            "CX q[1], q[3];\n",
            "CX q[4], q[5];\n",
            "CX q[1], q[2];\n",
            "CX q[3], q[4];\n",
            "CX q[5], q[6];\n",
            "Measure q[4] --> c[3];\n",
            "Measure q[6] --> c[5];\n",
            "CX q[0], q[1];\n",
            "CX q[2], q[7];\n",
            "H q[3];\n",
            "H q[5];\n",
            "Measure q[1] --> c[1];\n",
            "Measure q[3] --> c[2];\n",
            "Measure q[5] --> c[4];\n",
            "Measure q[7] --> c[7];\n",
            "H q[0];\n",
            "H q[2];\n",
            "Measure q[0] --> c[0];\n",
            "Measure q[2] --> c[6];\n",
            "\n",
            "post selection:\n",
            "{0: 0, 1: 0, 2: 0, 3: 0, 4: 0, 5: 0, 6: 0, 7: 0}\n",
            "\n",
            "scalar:\n",
            "64.00000000000009\n",
            "\n",
            "qiskit circuit:\n"
          ]
        },
        {
          "output_type": "execute_result",
          "data": {
            "text/plain": [
              "                              ┌───┐                   ┌─┐   \n",
              "q_0: ──────────────────────■──┤ H ├───────────────────┤M├───\n",
              "       ┌───┐             ┌─┴─┐└───┘     ┌─┐           └╥┘   \n",
              "q_1: ──┤ H ├─────■────■──┤ X ├──────────┤M├────────────╫────\n",
              "       └───┘     │  ┌─┴─┐└───┘          └╥┘┌───┐       ║ ┌─┐\n",
              "q_2: ────────────┼──┤ X ├────────────■───╫─┤ H ├───────╫─┤M├\n",
              "               ┌─┴─┐└───┘┌───┐       │   ║ └┬─┬┘       ║ └╥┘\n",
              "q_3: ──────────┤ X ├──■──┤ H ├───────┼───╫──┤M├────────╫──╫─\n",
              "       ┌───┐   └───┘┌─┴─┐└┬─┬┘       │   ║  └╥┘        ║  ║ \n",
              "q_4: ──┤ H ├─────■──┤ X ├─┤M├────────┼───╫───╫─────────╫──╫─\n",
              "     ┌─┴───┴─┐ ┌─┴─┐└───┘ └╥┘ ┌───┐  │   ║   ║  ┌─┐    ║  ║ \n",
              "q_5: ┤ Rx(π) ├─┤ X ├──■────╫──┤ H ├──┼───╫───╫──┤M├────╫──╫─\n",
              "     └─┬───┬─┘ └───┘┌─┴─┐  ║  └┬─┬┘  │   ║   ║  └╥┘    ║  ║ \n",
              "q_6: ──┤ X ├────────┤ X ├──╫───┤M├───┼───╫───╫───╫─────╫──╫─\n",
              "     ┌─┴───┴──┐     └───┘  ║   └╥┘ ┌─┴─┐ ║   ║   ║ ┌─┐ ║  ║ \n",
              "q_7: ┤ Rx(2π) ├────────────╫────╫──┤ X ├─╫───╫───╫─┤M├─╫──╫─\n",
              "     └────────┘            ║    ║  └───┘ ║   ║   ║ └╥┘ ║  ║ \n",
              "c: 8/══════════════════════╩════╩════════╩═══╩═══╩══╩══╩══╩═\n",
              "                           3    5        1   2   4  7  0  6 "
            ],
            "text/html": [
              "<pre style=\"word-wrap: normal;white-space: pre;background: #fff0;line-height: 1.1;font-family: &quot;Courier New&quot;,Courier,monospace\">                              ┌───┐                   ┌─┐   \n",
              "q_0: ──────────────────────■──┤ H ├───────────────────┤M├───\n",
              "       ┌───┐             ┌─┴─┐└───┘     ┌─┐           └╥┘   \n",
              "q_1: ──┤ H ├─────■────■──┤ X ├──────────┤M├────────────╫────\n",
              "       └───┘     │  ┌─┴─┐└───┘          └╥┘┌───┐       ║ ┌─┐\n",
              "q_2: ────────────┼──┤ X ├────────────■───╫─┤ H ├───────╫─┤M├\n",
              "               ┌─┴─┐└───┘┌───┐       │   ║ └┬─┬┘       ║ └╥┘\n",
              "q_3: ──────────┤ X ├──■──┤ H ├───────┼───╫──┤M├────────╫──╫─\n",
              "       ┌───┐   └───┘┌─┴─┐└┬─┬┘       │   ║  └╥┘        ║  ║ \n",
              "q_4: ──┤ H ├─────■──┤ X ├─┤M├────────┼───╫───╫─────────╫──╫─\n",
              "     ┌─┴───┴─┐ ┌─┴─┐└───┘ └╥┘ ┌───┐  │   ║   ║  ┌─┐    ║  ║ \n",
              "q_5: ┤ Rx(π) ├─┤ X ├──■────╫──┤ H ├──┼───╫───╫──┤M├────╫──╫─\n",
              "     └─┬───┬─┘ └───┘┌─┴─┐  ║  └┬─┬┘  │   ║   ║  └╥┘    ║  ║ \n",
              "q_6: ──┤ X ├────────┤ X ├──╫───┤M├───┼───╫───╫───╫─────╫──╫─\n",
              "     ┌─┴───┴──┐     └───┘  ║   └╥┘ ┌─┴─┐ ║   ║   ║ ┌─┐ ║  ║ \n",
              "q_7: ┤ Rx(2π) ├────────────╫────╫──┤ X ├─╫───╫───╫─┤M├─╫──╫─\n",
              "     └────────┘            ║    ║  └───┘ ║   ║   ║ └╥┘ ║  ║ \n",
              "c: 8/══════════════════════╩════╩════════╩═══╩═══╩══╩══╩══╩═\n",
              "                           3    5        1   2   4  7  0  6 </pre>"
            ]
          },
          "metadata": {},
          "execution_count": 163
        }
      ]
    },
    {
      "cell_type": "code",
      "source": [
        "from pytket.extensions.qiskit import AerBackend\n",
        "\n",
        "def evaluate(params, sentences, backend=AerBackend(), n_shots=2**10, seed=0):\n",
        "    circuits = [F(params)(parsing[s]) for s in sentences]\n",
        "    results = [Circuit.eval(\n",
        "                circuit,\n",
        "                backend=backend,\n",
        "                n_shots=n_shots,\n",
        "                seed=seed,\n",
        "                compilation=backend.default_compilation_pass(2)) for circuit in circuits]\n",
        "    tensors = [np.abs(result.array) for result in results]\n",
        "    return tensors"
      ],
      "metadata": {
        "id": "2Q5ueKvPdFlR"
      },
      "execution_count": null,
      "outputs": []
    },
    {
      "cell_type": "code",
      "source": [
        "start = time()\n",
        "corpus = dict(zip(sentences, evaluate(params0, sentences, backend=AerBackend())))\n",
        "print(\"{:.3f} seconds to compute the corpus.\\n\".format(time() - start))\n",
        "\n",
        "delta = .01\n",
        "\n",
        "print(\"True sentences:\\n{}\\n\".format('\\n'.join(\"{} ({:.3f})\".format(sentence, scalar)\n",
        "    for sentence, scalar in corpus.items() if scalar > .5 + delta)))\n",
        "print(\"False sentences:\\n{}\\n\".format('\\n'.join(\"{} ({:.3f})\".format(sentence, scalar)\n",
        "    for sentence, scalar in corpus.items() if scalar < .5 - delta)))\n",
        "print(\"Maybe sentences:\\n{}\".format('\\n'.join(\"{} ({:.3f})\".format(sentence, scalar)\n",
        "    for sentence, scalar in corpus.items() if .5 - delta <= scalar <= .5 + delta)))"
      ],
      "metadata": {
        "id": "2s8Nq5PWdMJl",
        "colab": {
          "base_uri": "https://localhost:8080/"
        },
        "outputId": "166ee605-b541-490d-d506-c25c7be92ffa"
      },
      "execution_count": null,
      "outputs": [
        {
          "output_type": "stream",
          "name": "stdout",
          "text": [
            "47.226 seconds to compute the corpus.\n",
            "\n",
            "True sentences:\n",
            "Alice is rich. (0.984)\n",
            "Alice is famous. (0.984)\n",
            "Alice loves Bob. (0.930)\n",
            "Alice loves hats. (0.930)\n",
            "Alice loves Cats. (0.930)\n",
            "Alice wears Bob. (0.930)\n",
            "Alice wears hats. (0.930)\n",
            "Alice wears Cats. (0.930)\n",
            "Alice shows Bob. (0.930)\n",
            "Alice shows hats. (0.930)\n",
            "Alice shows Cats. (0.930)\n",
            "Alice calls Bob. (0.930)\n",
            "Alice calls hats. (0.930)\n",
            "Alice calls Cats. (0.930)\n",
            "Alice are Bob. (0.930)\n",
            "Alice are hats. (0.930)\n",
            "Alice are Cats. (0.930)\n",
            "Alice tells Bob. (0.930)\n",
            "Alice tells hats. (0.930)\n",
            "Alice tells Cats. (0.930)\n",
            "Bob loves Alice. (0.930)\n",
            "Bob wears Alice. (0.930)\n",
            "Bob shows Alice. (0.930)\n",
            "Bob calls Alice. (0.930)\n",
            "Bob are Alice. (0.930)\n",
            "Bob tells Alice. (0.930)\n",
            "blue Bob is rich. (0.930)\n",
            "blue Bob is famous. (0.930)\n",
            "blue hats is rich. (0.930)\n",
            "blue hats is famous. (0.930)\n",
            "blue Cats is rich. (0.930)\n",
            "blue Cats is famous. (0.930)\n",
            "hats loves Alice. (0.930)\n",
            "hats wears Alice. (0.930)\n",
            "hats shows Alice. (0.930)\n",
            "hats calls Alice. (0.930)\n",
            "hats are Alice. (0.930)\n",
            "hats tells Alice. (0.930)\n",
            "Cats loves Alice. (0.930)\n",
            "Cats wears Alice. (0.930)\n",
            "Cats shows Alice. (0.930)\n",
            "Cats calls Alice. (0.930)\n",
            "Cats are Alice. (0.930)\n",
            "Cats tells Alice. (0.930)\n",
            "Alice loves blue Alice. (0.781)\n",
            "Alice who is rich is rich. (0.859)\n",
            "Alice who is rich is famous. (0.859)\n",
            "Alice who is famous is rich. (0.859)\n",
            "Alice who is famous is famous. (0.859)\n",
            "Alice wears blue Alice. (0.781)\n",
            "Alice shows blue Alice. (0.781)\n",
            "Alice calls blue Alice. (0.781)\n",
            "Alice and Alice is rich. (0.859)\n",
            "Alice and Alice is famous. (0.859)\n",
            "Alice are blue Alice. (0.781)\n",
            "Alice tells blue Alice. (0.781)\n",
            "Bob loves blue Bob. (0.781)\n",
            "Bob loves blue hats. (0.781)\n",
            "Bob loves blue Cats. (0.781)\n",
            "Bob wears blue Bob. (0.781)\n",
            "Bob wears blue hats. (0.781)\n",
            "Bob wears blue Cats. (0.781)\n",
            "Bob shows blue Bob. (0.781)\n",
            "Bob shows blue hats. (0.781)\n",
            "Bob shows blue Cats. (0.781)\n",
            "Bob calls blue Bob. (0.781)\n",
            "Bob calls blue hats. (0.781)\n",
            "Bob calls blue Cats. (0.781)\n",
            "Bob are blue Bob. (0.781)\n",
            "Bob are blue hats. (0.781)\n",
            "Bob are blue Cats. (0.781)\n",
            "Bob tells blue Bob. (0.781)\n",
            "Bob tells blue hats. (0.781)\n",
            "Bob tells blue Cats. (0.781)\n",
            "blue Alice loves Alice. (0.781)\n",
            "blue Alice wears Alice. (0.781)\n",
            "blue Alice shows Alice. (0.781)\n",
            "blue Alice calls Alice. (0.781)\n",
            "blue Alice are Alice. (0.781)\n",
            "blue Alice tells Alice. (0.781)\n",
            "blue Bob loves Bob. (0.781)\n",
            "blue Bob loves hats. (0.781)\n",
            "blue Bob loves Cats. (0.781)\n",
            "blue Bob wears Bob. (0.781)\n",
            "blue Bob wears hats. (0.781)\n",
            "blue Bob wears Cats. (0.781)\n",
            "blue Bob shows Bob. (0.781)\n",
            "blue Bob shows hats. (0.781)\n",
            "blue Bob shows Cats. (0.781)\n",
            "blue Bob calls Bob. (0.781)\n",
            "blue Bob calls hats. (0.781)\n",
            "blue Bob calls Cats. (0.781)\n",
            "blue Bob are Bob. (0.781)\n",
            "blue Bob are hats. (0.781)\n",
            "blue Bob are Cats. (0.781)\n",
            "blue Bob tells Bob. (0.781)\n",
            "blue Bob tells hats. (0.781)\n",
            "blue Bob tells Cats. (0.781)\n",
            "blue blue Alice is rich. (0.781)\n",
            "blue blue Alice is famous. (0.781)\n",
            "blue hats loves Bob. (0.781)\n",
            "blue hats loves hats. (0.781)\n",
            "blue hats loves Cats. (0.781)\n",
            "blue hats wears Bob. (0.781)\n",
            "blue hats wears hats. (0.781)\n",
            "blue hats wears Cats. (0.781)\n",
            "blue hats shows Bob. (0.781)\n",
            "blue hats shows hats. (0.781)\n",
            "blue hats shows Cats. (0.781)\n",
            "blue hats calls Bob. (0.781)\n",
            "blue hats calls hats. (0.781)\n",
            "blue hats calls Cats. (0.781)\n",
            "blue hats are Bob. (0.781)\n",
            "blue hats are hats. (0.781)\n",
            "blue hats are Cats. (0.781)\n",
            "blue hats tells Bob. (0.781)\n",
            "blue hats tells hats. (0.781)\n",
            "blue hats tells Cats. (0.781)\n",
            "blue Cats loves Bob. (0.781)\n",
            "blue Cats loves hats. (0.781)\n",
            "blue Cats loves Cats. (0.781)\n",
            "blue Cats wears Bob. (0.781)\n",
            "blue Cats wears hats. (0.781)\n",
            "blue Cats wears Cats. (0.781)\n",
            "blue Cats shows Bob. (0.781)\n",
            "blue Cats shows hats. (0.781)\n",
            "blue Cats shows Cats. (0.781)\n",
            "blue Cats calls Bob. (0.781)\n",
            "blue Cats calls hats. (0.781)\n",
            "blue Cats calls Cats. (0.781)\n",
            "blue Cats are Bob. (0.781)\n",
            "blue Cats are hats. (0.781)\n",
            "blue Cats are Cats. (0.781)\n",
            "blue Cats tells Bob. (0.781)\n",
            "blue Cats tells hats. (0.781)\n",
            "blue Cats tells Cats. (0.781)\n",
            "hats loves blue Bob. (0.781)\n",
            "hats loves blue hats. (0.781)\n",
            "hats loves blue Cats. (0.781)\n",
            "hats wears blue Bob. (0.781)\n",
            "hats wears blue hats. (0.781)\n",
            "hats wears blue Cats. (0.781)\n",
            "hats shows blue Bob. (0.781)\n",
            "hats shows blue hats. (0.781)\n",
            "hats shows blue Cats. (0.781)\n",
            "hats calls blue Bob. (0.781)\n",
            "hats calls blue hats. (0.781)\n",
            "hats calls blue Cats. (0.781)\n",
            "hats are blue Bob. (0.781)\n",
            "hats are blue hats. (0.781)\n",
            "hats are blue Cats. (0.781)\n",
            "hats tells blue Bob. (0.781)\n",
            "hats tells blue hats. (0.781)\n",
            "hats tells blue Cats. (0.781)\n",
            "Cats loves blue Bob. (0.781)\n",
            "Cats loves blue hats. (0.781)\n",
            "Cats loves blue Cats. (0.781)\n",
            "Cats wears blue Bob. (0.781)\n",
            "Cats wears blue hats. (0.781)\n",
            "Cats wears blue Cats. (0.781)\n",
            "Cats shows blue Bob. (0.781)\n",
            "Cats shows blue hats. (0.781)\n",
            "Cats shows blue Cats. (0.781)\n",
            "Cats calls blue Bob. (0.781)\n",
            "Cats calls blue hats. (0.781)\n",
            "Cats calls blue Cats. (0.781)\n",
            "Cats are blue Bob. (0.781)\n",
            "Cats are blue hats. (0.781)\n",
            "Cats are blue Cats. (0.781)\n",
            "Cats tells blue Bob. (0.781)\n",
            "Cats tells blue hats. (0.781)\n",
            "Cats tells blue Cats. (0.781)\n",
            "Alice loves blue blue Bob. (1.375)\n",
            "Alice loves blue blue hats. (1.375)\n",
            "Alice loves blue blue Cats. (1.375)\n",
            "Alice who loves Bob is rich. (0.938)\n",
            "Alice who loves Bob is famous. (0.938)\n",
            "Alice who loves hats is rich. (0.938)\n",
            "Alice who loves hats is famous. (0.938)\n",
            "Alice who loves Cats is rich. (0.938)\n",
            "Alice who loves Cats is famous. (0.938)\n",
            "Alice who is rich loves Bob. (0.938)\n",
            "Alice who is rich loves hats. (0.938)\n",
            "Alice who is rich loves Cats. (0.938)\n",
            "Alice who is rich wears Bob. (0.938)\n",
            "Alice who is rich wears hats. (0.938)\n",
            "Alice who is rich wears Cats. (0.938)\n",
            "Alice who is rich shows Bob. (0.938)\n",
            "Alice who is rich shows hats. (0.938)\n",
            "Alice who is rich shows Cats. (0.938)\n",
            "Alice who is rich calls Bob. (0.938)\n",
            "Alice who is rich calls hats. (0.938)\n",
            "Alice who is rich calls Cats. (0.938)\n",
            "Alice who is rich are Bob. (0.938)\n",
            "Alice who is rich are hats. (0.938)\n",
            "Alice who is rich are Cats. (0.938)\n",
            "Alice who is rich tells Bob. (0.938)\n",
            "Alice who is rich tells hats. (0.938)\n",
            "Alice who is rich tells Cats. (0.938)\n",
            "Alice who is famous loves Bob. (0.938)\n",
            "Alice who is famous loves hats. (0.938)\n",
            "Alice who is famous loves Cats. (0.938)\n",
            "Alice who is famous wears Bob. (0.938)\n",
            "Alice who is famous wears hats. (0.938)\n",
            "Alice who is famous wears Cats. (0.938)\n",
            "Alice who is famous shows Bob. (0.938)\n",
            "Alice who is famous shows hats. (0.938)\n",
            "Alice who is famous shows Cats. (0.938)\n",
            "Alice who is famous calls Bob. (0.938)\n",
            "Alice who is famous calls hats. (0.938)\n",
            "Alice who is famous calls Cats. (0.938)\n",
            "Alice who is famous are Bob. (0.938)\n",
            "Alice who is famous are hats. (0.938)\n",
            "Alice who is famous are Cats. (0.938)\n",
            "Alice who is famous tells Bob. (0.938)\n",
            "Alice who is famous tells hats. (0.938)\n",
            "Alice who is famous tells Cats. (0.938)\n",
            "Alice who wears Bob is rich. (0.938)\n",
            "Alice who wears Bob is famous. (0.938)\n",
            "Alice who wears hats is rich. (0.938)\n",
            "Alice who wears hats is famous. (0.938)\n",
            "Alice who wears Cats is rich. (0.938)\n",
            "Alice who wears Cats is famous. (0.938)\n",
            "Alice who shows Bob is rich. (0.938)\n",
            "Alice who shows Bob is famous. (0.938)\n",
            "Alice who shows hats is rich. (0.938)\n",
            "Alice who shows hats is famous. (0.938)\n",
            "Alice who shows Cats is rich. (0.938)\n",
            "Alice who shows Cats is famous. (0.938)\n",
            "Alice who calls Bob is rich. (0.938)\n",
            "Alice who calls Bob is famous. (0.938)\n",
            "Alice who calls hats is rich. (0.938)\n",
            "Alice who calls hats is famous. (0.938)\n",
            "Alice who calls Cats is rich. (0.938)\n",
            "Alice who calls Cats is famous. (0.938)\n",
            "Alice who are Bob is rich. (0.938)\n",
            "Alice who are Bob is famous. (0.938)\n",
            "Alice who are hats is rich. (0.938)\n",
            "Alice who are hats is famous. (0.938)\n",
            "Alice who are Cats is rich. (0.938)\n",
            "Alice who are Cats is famous. (0.938)\n",
            "Alice who tells Bob is rich. (0.938)\n",
            "Alice who tells Bob is famous. (0.938)\n",
            "Alice who tells hats is rich. (0.938)\n",
            "Alice who tells hats is famous. (0.938)\n",
            "Alice who tells Cats is rich. (0.938)\n",
            "Alice who tells Cats is famous. (0.938)\n",
            "Alice wears blue blue Bob. (1.375)\n",
            "Alice wears blue blue hats. (1.375)\n",
            "Alice wears blue blue Cats. (1.375)\n",
            "Alice shows blue blue Bob. (1.375)\n",
            "Alice shows blue blue hats. (1.375)\n",
            "Alice shows blue blue Cats. (1.375)\n",
            "Alice calls blue blue Bob. (1.375)\n",
            "Alice calls blue blue hats. (1.375)\n",
            "Alice calls blue blue Cats. (1.375)\n",
            "Alice and Alice loves Bob. (0.938)\n",
            "Alice and Alice loves hats. (0.938)\n",
            "Alice and Alice loves Cats. (0.938)\n",
            "Alice and Alice wears Bob. (0.938)\n",
            "Alice and Alice wears hats. (0.938)\n",
            "Alice and Alice wears Cats. (0.938)\n",
            "Alice and Alice shows Bob. (0.938)\n",
            "Alice and Alice shows hats. (0.938)\n",
            "Alice and Alice shows Cats. (0.938)\n",
            "Alice and Alice calls Bob. (0.938)\n",
            "Alice and Alice calls hats. (0.938)\n",
            "Alice and Alice calls Cats. (0.938)\n",
            "Alice and Alice are Bob. (0.938)\n",
            "Alice and Alice are hats. (0.938)\n",
            "Alice and Alice are Cats. (0.938)\n",
            "Alice and Alice tells Bob. (0.938)\n",
            "Alice and Alice tells hats. (0.938)\n",
            "Alice and Alice tells Cats. (0.938)\n",
            "\n",
            "False sentences:\n",
            "Bob is rich. (0.000)\n",
            "Bob is famous. (0.000)\n",
            "hats is rich. (0.000)\n",
            "hats is famous. (0.000)\n",
            "Cats is rich. (0.000)\n",
            "Cats is famous. (0.000)\n",
            "Alice loves Alice. (0.000)\n",
            "Alice wears Alice. (0.000)\n",
            "Alice shows Alice. (0.000)\n",
            "Alice calls Alice. (0.000)\n",
            "Alice are Alice. (0.000)\n",
            "Alice tells Alice. (0.000)\n",
            "Bob loves Bob. (0.000)\n",
            "Bob loves hats. (0.000)\n",
            "Bob loves Cats. (0.000)\n",
            "Bob wears Bob. (0.000)\n",
            "Bob wears hats. (0.000)\n",
            "Bob wears Cats. (0.000)\n",
            "Bob shows Bob. (0.000)\n",
            "Bob shows hats. (0.000)\n",
            "Bob shows Cats. (0.000)\n",
            "Bob calls Bob. (0.000)\n",
            "Bob calls hats. (0.000)\n",
            "Bob calls Cats. (0.000)\n",
            "Bob are Bob. (0.000)\n",
            "Bob are hats. (0.000)\n",
            "Bob are Cats. (0.000)\n",
            "Bob tells Bob. (0.000)\n",
            "Bob tells hats. (0.000)\n",
            "Bob tells Cats. (0.000)\n",
            "blue Alice is rich. (0.000)\n",
            "blue Alice is famous. (0.000)\n",
            "hats loves Bob. (0.000)\n",
            "hats loves hats. (0.000)\n",
            "hats loves Cats. (0.000)\n",
            "hats wears Bob. (0.000)\n",
            "hats wears hats. (0.000)\n",
            "hats wears Cats. (0.000)\n",
            "hats shows Bob. (0.000)\n",
            "hats shows hats. (0.000)\n",
            "hats shows Cats. (0.000)\n",
            "hats calls Bob. (0.000)\n",
            "hats calls hats. (0.000)\n",
            "hats calls Cats. (0.000)\n",
            "hats are Bob. (0.000)\n",
            "hats are hats. (0.000)\n",
            "hats are Cats. (0.000)\n",
            "hats tells Bob. (0.000)\n",
            "hats tells hats. (0.000)\n",
            "hats tells Cats. (0.000)\n",
            "Cats loves Bob. (0.000)\n",
            "Cats loves hats. (0.000)\n",
            "Cats loves Cats. (0.000)\n",
            "Cats wears Bob. (0.000)\n",
            "Cats wears hats. (0.000)\n",
            "Cats wears Cats. (0.000)\n",
            "Cats shows Bob. (0.000)\n",
            "Cats shows hats. (0.000)\n",
            "Cats shows Cats. (0.000)\n",
            "Cats calls Bob. (0.000)\n",
            "Cats calls hats. (0.000)\n",
            "Cats calls Cats. (0.000)\n",
            "Cats are Bob. (0.000)\n",
            "Cats are hats. (0.000)\n",
            "Cats are Cats. (0.000)\n",
            "Cats tells Bob. (0.000)\n",
            "Cats tells hats. (0.000)\n",
            "Cats tells Cats. (0.000)\n",
            "Alice loves blue Bob. (0.000)\n",
            "Alice loves blue hats. (0.000)\n",
            "Alice loves blue Cats. (0.000)\n",
            "Alice wears blue Bob. (0.000)\n",
            "Alice wears blue hats. (0.000)\n",
            "Alice wears blue Cats. (0.000)\n",
            "Alice shows blue Bob. (0.000)\n",
            "Alice shows blue hats. (0.000)\n",
            "Alice shows blue Cats. (0.000)\n",
            "Alice calls blue Bob. (0.000)\n",
            "Alice calls blue hats. (0.000)\n",
            "Alice calls blue Cats. (0.000)\n",
            "Alice and Bob is rich. (0.000)\n",
            "Alice and Bob is famous. (0.000)\n",
            "Alice and hats is rich. (0.000)\n",
            "Alice and hats is famous. (0.000)\n",
            "Alice and Cats is rich. (0.000)\n",
            "Alice and Cats is famous. (0.000)\n",
            "Alice are blue Bob. (0.000)\n",
            "Alice are blue hats. (0.000)\n",
            "Alice are blue Cats. (0.000)\n",
            "Alice tells blue Bob. (0.000)\n",
            "Alice tells blue hats. (0.000)\n",
            "Alice tells blue Cats. (0.000)\n",
            "Bob loves blue Alice. (0.000)\n",
            "Bob who is rich is rich. (0.000)\n",
            "Bob who is rich is famous. (0.000)\n",
            "Bob who is famous is rich. (0.000)\n",
            "Bob who is famous is famous. (0.000)\n",
            "Bob wears blue Alice. (0.000)\n",
            "Bob shows blue Alice. (0.000)\n",
            "Bob calls blue Alice. (0.000)\n",
            "Bob and Alice is rich. (0.000)\n",
            "Bob and Alice is famous. (0.000)\n",
            "Bob and Bob is rich. (0.000)\n",
            "Bob and Bob is famous. (0.000)\n",
            "Bob and hats is rich. (0.000)\n",
            "Bob and hats is famous. (0.000)\n",
            "Bob and Cats is rich. (0.000)\n",
            "Bob and Cats is famous. (0.000)\n",
            "Bob are blue Alice. (0.000)\n",
            "Bob tells blue Alice. (0.000)\n",
            "blue Alice loves Bob. (0.000)\n",
            "blue Alice loves hats. (0.000)\n",
            "blue Alice loves Cats. (0.000)\n",
            "blue Alice wears Bob. (0.000)\n",
            "blue Alice wears hats. (0.000)\n",
            "blue Alice wears Cats. (0.000)\n",
            "blue Alice shows Bob. (0.000)\n",
            "blue Alice shows hats. (0.000)\n",
            "blue Alice shows Cats. (0.000)\n",
            "blue Alice calls Bob. (0.000)\n",
            "blue Alice calls hats. (0.000)\n",
            "blue Alice calls Cats. (0.000)\n",
            "blue Alice are Bob. (0.000)\n",
            "blue Alice are hats. (0.000)\n",
            "blue Alice are Cats. (0.000)\n",
            "blue Alice tells Bob. (0.000)\n",
            "blue Alice tells hats. (0.000)\n",
            "blue Alice tells Cats. (0.000)\n",
            "blue Bob loves Alice. (0.000)\n",
            "blue Bob wears Alice. (0.000)\n",
            "blue Bob shows Alice. (0.000)\n",
            "blue Bob calls Alice. (0.000)\n",
            "blue Bob are Alice. (0.000)\n",
            "blue Bob tells Alice. (0.000)\n",
            "blue blue Bob is rich. (0.000)\n",
            "blue blue Bob is famous. (0.000)\n",
            "blue blue hats is rich. (0.000)\n",
            "blue blue hats is famous. (0.000)\n",
            "blue blue Cats is rich. (0.000)\n",
            "blue blue Cats is famous. (0.000)\n",
            "blue hats loves Alice. (0.000)\n",
            "blue hats wears Alice. (0.000)\n",
            "blue hats shows Alice. (0.000)\n",
            "blue hats calls Alice. (0.000)\n",
            "blue hats are Alice. (0.000)\n",
            "blue hats tells Alice. (0.000)\n",
            "blue Cats loves Alice. (0.000)\n",
            "blue Cats wears Alice. (0.000)\n",
            "blue Cats shows Alice. (0.000)\n",
            "blue Cats calls Alice. (0.000)\n",
            "blue Cats are Alice. (0.000)\n",
            "blue Cats tells Alice. (0.000)\n",
            "hats loves blue Alice. (0.000)\n",
            "hats who is rich is rich. (0.000)\n",
            "hats who is rich is famous. (0.000)\n",
            "hats who is famous is rich. (0.000)\n",
            "hats who is famous is famous. (0.000)\n",
            "hats wears blue Alice. (0.000)\n",
            "hats shows blue Alice. (0.000)\n",
            "hats calls blue Alice. (0.000)\n",
            "hats and Alice is rich. (0.000)\n",
            "hats and Alice is famous. (0.000)\n",
            "hats and Bob is rich. (0.000)\n",
            "hats and Bob is famous. (0.000)\n",
            "hats and hats is rich. (0.000)\n",
            "hats and hats is famous. (0.000)\n",
            "hats and Cats is rich. (0.000)\n",
            "hats and Cats is famous. (0.000)\n",
            "hats are blue Alice. (0.000)\n",
            "hats tells blue Alice. (0.000)\n",
            "Cats loves blue Alice. (0.000)\n",
            "Cats who is rich is rich. (0.000)\n",
            "Cats who is rich is famous. (0.000)\n",
            "Cats who is famous is rich. (0.000)\n",
            "Cats who is famous is famous. (0.000)\n",
            "Cats wears blue Alice. (0.000)\n",
            "Cats shows blue Alice. (0.000)\n",
            "Cats calls blue Alice. (0.000)\n",
            "Cats and Alice is rich. (0.000)\n",
            "Cats and Alice is famous. (0.000)\n",
            "Cats and Bob is rich. (0.000)\n",
            "Cats and Bob is famous. (0.000)\n",
            "Cats and hats is rich. (0.000)\n",
            "Cats and hats is famous. (0.000)\n",
            "Cats and Cats is rich. (0.000)\n",
            "Cats and Cats is famous. (0.000)\n",
            "Cats are blue Alice. (0.000)\n",
            "Cats tells blue Alice. (0.000)\n",
            "Alice loves blue blue Alice. (0.000)\n",
            "Alice who loves Alice is rich. (0.000)\n",
            "Alice who loves Alice is famous. (0.000)\n",
            "Alice who is rich loves Alice. (0.000)\n",
            "Alice who is rich wears Alice. (0.000)\n",
            "Alice who is rich shows Alice. (0.000)\n",
            "Alice who is rich calls Alice. (0.000)\n",
            "Alice who is rich are Alice. (0.000)\n",
            "Alice who is rich tells Alice. (0.000)\n",
            "Alice who is famous loves Alice. (0.000)\n",
            "Alice who is famous wears Alice. (0.000)\n",
            "Alice who is famous shows Alice. (0.000)\n",
            "Alice who is famous calls Alice. (0.000)\n",
            "Alice who is famous are Alice. (0.000)\n",
            "Alice who is famous tells Alice. (0.000)\n",
            "Alice who wears Alice is rich. (0.000)\n",
            "Alice who wears Alice is famous. (0.000)\n",
            "Alice who shows Alice is rich. (0.000)\n",
            "Alice who shows Alice is famous. (0.000)\n",
            "Alice who calls Alice is rich. (0.000)\n",
            "Alice who calls Alice is famous. (0.000)\n",
            "Alice who are Alice is rich. (0.000)\n",
            "Alice who are Alice is famous. (0.000)\n",
            "Alice who tells Alice is rich. (0.000)\n",
            "Alice who tells Alice is famous. (0.000)\n",
            "Alice wears blue blue Alice. (0.000)\n",
            "Alice shows blue blue Alice. (0.000)\n",
            "Alice calls blue blue Alice. (0.000)\n",
            "Alice and Alice loves Alice. (0.000)\n",
            "Alice and Alice wears Alice. (0.000)\n",
            "Alice and Alice shows Alice. (0.000)\n",
            "Alice and Alice calls Alice. (0.000)\n",
            "Alice and Alice are Alice. (0.000)\n",
            "Alice and Alice tells Alice. (0.000)\n",
            "Alice and Bob loves Alice. (0.000)\n",
            "Alice and Bob loves Bob. (0.000)\n",
            "Alice and Bob loves hats. (0.000)\n",
            "Alice and Bob loves Cats. (0.000)\n",
            "\n",
            "Maybe sentences:\n",
            "\n"
          ]
        }
      ]
    },
    {
      "cell_type": "code",
      "source": [
        "from sklearn.model_selection import train_test_split\n",
        "\n",
        "sentence_train, sentence_test = train_test_split(sentences, test_size=0.5, random_state=237)\n",
        "\n",
        "print(\"Training set:\\n{}\\n\".format('\\n'.join(sentence_train)))\n",
        "print(\"Testing set:\\n{}\".format('\\n'.join(sentence_test)))"
      ],
      "metadata": {
        "id": "WuzpuACQdOz9",
        "colab": {
          "base_uri": "https://localhost:8080/"
        },
        "outputId": "b0348ea5-ba42-492f-ed6a-8d5d2b3f0bb0"
      },
      "execution_count": null,
      "outputs": [
        {
          "output_type": "stream",
          "name": "stdout",
          "text": [
            "Training set:\n",
            "Bob shows hats.\n",
            "Alice loves Cats.\n",
            "Bob tells Alice.\n",
            "Cats and hats is rich.\n",
            "blue Bob wears Cats.\n",
            "blue hats calls hats.\n",
            "blue hats are hats.\n",
            "Alice who shows hats is famous.\n",
            "blue Alice loves Bob.\n",
            "Cats loves Bob.\n",
            "Alice wears blue blue Alice.\n",
            "Alice wears Bob.\n",
            "Bob is rich.\n",
            "blue hats wears Cats.\n",
            "blue Cats are hats.\n",
            "Alice who loves Alice is famous.\n",
            "hats calls blue Bob.\n",
            "Bob who is famous is rich.\n",
            "Bob loves blue hats.\n",
            "Bob and Alice is rich.\n",
            "Alice are blue Alice.\n",
            "Cats tells Cats.\n",
            "Bob are Alice.\n",
            "Alice who is rich calls hats.\n",
            "blue Alice loves Alice.\n",
            "Alice are Alice.\n",
            "Alice wears Alice.\n",
            "Alice and Alice shows hats.\n",
            "hats tells blue Alice.\n",
            "Bob tells Cats.\n",
            "blue Alice calls Alice.\n",
            "hats calls Bob.\n",
            "blue Bob calls Alice.\n",
            "hats and hats is famous.\n",
            "Alice who is famous are Cats.\n",
            "Alice tells blue Cats.\n",
            "hats wears hats.\n",
            "Alice who is famous is famous.\n",
            "Cats shows blue Alice.\n",
            "blue blue Alice is rich.\n",
            "Alice who calls Cats is rich.\n",
            "Alice who is famous calls Bob.\n",
            "Alice tells Cats.\n",
            "hats wears blue Alice.\n",
            "Alice and Alice is famous.\n",
            "Alice and Cats is famous.\n",
            "hats are Cats.\n",
            "Bob tells blue Bob.\n",
            "Alice who is rich are Cats.\n",
            "Alice shows blue hats.\n",
            "Alice who wears Bob is rich.\n",
            "Cats who is rich is rich.\n",
            "blue hats tells hats.\n",
            "Cats shows Alice.\n",
            "Cats is rich.\n",
            "Alice who calls Alice is rich.\n",
            "Alice and Alice loves Bob.\n",
            "blue Bob is famous.\n",
            "blue Alice tells Bob.\n",
            "Cats wears Bob.\n",
            "blue Cats wears Cats.\n",
            "Bob and hats is rich.\n",
            "Cats and Cats is rich.\n",
            "Alice who wears hats is famous.\n",
            "Cats are Bob.\n",
            "Alice who loves hats is famous.\n",
            "hats are hats.\n",
            "Cats shows Bob.\n",
            "Bob loves blue Bob.\n",
            "Alice who is famous tells Cats.\n",
            "Alice who is famous wears Bob.\n",
            "hats calls blue Alice.\n",
            "Bob who is famous is famous.\n",
            "hats loves blue Alice.\n",
            "blue hats is famous.\n",
            "blue Alice calls hats.\n",
            "blue hats loves Cats.\n",
            "hats tells Alice.\n",
            "blue Cats tells Alice.\n",
            "Alice calls blue hats.\n",
            "Alice and Bob is rich.\n",
            "blue Alice wears Cats.\n",
            "Alice who tells Cats is rich.\n",
            "Alice who is rich shows hats.\n",
            "Alice calls Cats.\n",
            "Cats shows hats.\n",
            "Bob tells blue Alice.\n",
            "hats wears Cats.\n",
            "blue Cats calls Bob.\n",
            "blue Cats shows hats.\n",
            "hats shows hats.\n",
            "Alice who tells hats is rich.\n",
            "Alice who is rich shows Cats.\n",
            "Bob calls blue Cats.\n",
            "Alice who wears hats is rich.\n",
            "Alice tells blue Bob.\n",
            "hats is famous.\n",
            "Bob wears Bob.\n",
            "Alice calls blue blue Alice.\n",
            "Alice who calls hats is famous.\n",
            "blue Bob shows hats.\n",
            "Alice are hats.\n",
            "Alice who calls Bob is rich.\n",
            "Cats shows blue hats.\n",
            "hats tells blue Cats.\n",
            "Alice wears blue hats.\n",
            "blue hats shows Cats.\n",
            "Alice who loves Cats is famous.\n",
            "Cats who is rich is famous.\n",
            "blue Alice shows Bob.\n",
            "Alice are blue Cats.\n",
            "Alice who shows hats is rich.\n",
            "blue Bob loves hats.\n",
            "blue hats calls Bob.\n",
            "Cats tells blue Alice.\n",
            "blue Cats shows Cats.\n",
            "Alice who calls Cats is famous.\n",
            "blue Alice shows hats.\n",
            "Alice loves blue blue Alice.\n",
            "Alice calls blue blue Cats.\n",
            "blue Bob wears Bob.\n",
            "hats tells Cats.\n",
            "hats loves blue Bob.\n",
            "Alice and Alice loves Alice.\n",
            "blue Cats are Alice.\n",
            "blue Bob calls hats.\n",
            "Alice is famous.\n",
            "Alice wears blue blue Bob.\n",
            "Alice who is famous tells Alice.\n",
            "blue Alice wears hats.\n",
            "Alice who loves Cats is rich.\n",
            "Alice who is rich calls Alice.\n",
            "Alice and Alice calls hats.\n",
            "Alice who are Alice is rich.\n",
            "Cats are blue Cats.\n",
            "blue Alice are Bob.\n",
            "hats are blue Alice.\n",
            "Cats loves blue Bob.\n",
            "hats who is famous is rich.\n",
            "hats is rich.\n",
            "Alice who is famous loves Alice.\n",
            "Cats calls blue Bob.\n",
            "Alice shows hats.\n",
            "Alice shows blue Bob.\n",
            "Alice who is famous tells hats.\n",
            "hats who is rich is rich.\n",
            "Alice who calls Bob is famous.\n",
            "Alice shows blue blue Bob.\n",
            "Cats tells hats.\n",
            "hats wears Bob.\n",
            "hats are blue Bob.\n",
            "Alice and Alice tells Bob.\n",
            "hats shows Alice.\n",
            "blue hats wears Alice.\n",
            "Alice tells Alice.\n",
            "Alice loves Alice.\n",
            "Bob shows Cats.\n",
            "Cats shows blue Bob.\n",
            "Alice who is famous tells Bob.\n",
            "Bob and hats is famous.\n",
            "Alice is rich.\n",
            "Alice who is rich wears hats.\n",
            "hats and Cats is rich.\n",
            "Bob calls Bob.\n",
            "Alice and Alice calls Cats.\n",
            "blue Cats is famous.\n",
            "Cats loves blue Alice.\n",
            "blue Alice are hats.\n",
            "Cats tells Bob.\n",
            "Bob wears blue Bob.\n",
            "Alice who is rich is rich.\n",
            "Alice who is rich tells Cats.\n",
            "Cats loves Alice.\n",
            "Bob are blue Cats.\n",
            "Alice shows Cats.\n",
            "Alice calls blue blue Bob.\n",
            "Alice wears blue blue Cats.\n",
            "Cats tells Alice.\n",
            "Alice calls Bob.\n",
            "Cats and Alice is famous.\n",
            "blue Cats loves Alice.\n",
            "blue Alice is famous.\n",
            "Cats wears blue hats.\n",
            "blue Cats tells Cats.\n",
            "Bob calls Cats.\n",
            "Alice who tells Bob is rich.\n",
            "blue Alice tells Cats.\n",
            "Alice who is rich loves Alice.\n",
            "Bob wears blue Cats.\n",
            "Bob wears Alice.\n",
            "Cats are Alice.\n",
            "Bob loves Bob.\n",
            "Bob shows blue Alice.\n",
            "Alice who shows Cats is rich.\n",
            "Bob and Bob is rich.\n",
            "Alice calls blue Cats.\n",
            "blue Bob wears Alice.\n",
            "blue Cats loves hats.\n",
            "Cats and Bob is rich.\n",
            "blue Bob are Alice.\n",
            "hats and Bob is rich.\n",
            "Alice loves hats.\n",
            "Cats are hats.\n",
            "blue Bob are hats.\n",
            "hats calls blue Cats.\n",
            "blue Bob shows Alice.\n",
            "Alice who loves Alice is rich.\n",
            "Cats and hats is famous.\n",
            "blue Cats tells hats.\n",
            "Alice who is famous are hats.\n",
            "Alice wears blue blue hats.\n",
            "hats calls Cats.\n",
            "blue Cats loves Cats.\n",
            "Alice who is famous calls Alice.\n",
            "hats tells Bob.\n",
            "Bob and Cats is famous.\n",
            "Cats shows Cats.\n",
            "Alice who are Bob is famous.\n",
            "blue hats calls Cats.\n",
            "Alice calls blue Bob.\n",
            "Alice and Alice are Alice.\n",
            "Alice who wears Alice is rich.\n",
            "Alice who is rich tells hats.\n",
            "Alice and Cats is rich.\n",
            "Alice who is famous shows Alice.\n",
            "Bob shows Bob.\n",
            "Alice who tells Alice is famous.\n",
            "blue Alice is rich.\n",
            "blue Bob are Cats.\n",
            "Cats loves blue hats.\n",
            "Alice who tells Alice is rich.\n",
            "Cats loves blue Cats.\n",
            "blue Bob loves Bob.\n",
            "Bob are Bob.\n",
            "Alice and Bob loves Cats.\n",
            "Alice who shows Bob is rich.\n",
            "Bob are blue Alice.\n",
            "blue hats shows Bob.\n",
            "hats and Alice is famous.\n",
            "Alice who wears Bob is famous.\n",
            "blue Cats wears Alice.\n",
            "hats and Alice is rich.\n",
            "hats wears blue hats.\n",
            "Alice and hats is rich.\n",
            "Alice loves Bob.\n",
            "Bob and Alice is famous.\n",
            "blue hats are Cats.\n",
            "hats tells blue hats.\n",
            "Alice and Alice tells Alice.\n",
            "hats are blue Cats.\n",
            "\n",
            "Testing set:\n",
            "Alice who is famous is rich.\n",
            "blue Cats calls hats.\n",
            "Bob calls hats.\n",
            "blue Alice tells Alice.\n",
            "blue Cats calls Alice.\n",
            "Bob tells hats.\n",
            "Alice wears hats.\n",
            "Alice who is rich loves Bob.\n",
            "Alice and Alice wears Cats.\n",
            "hats calls blue hats.\n",
            "Bob wears blue Alice.\n",
            "Cats and Bob is famous.\n",
            "Alice who is rich tells Alice.\n",
            "blue hats are Bob.\n",
            "Cats are blue hats.\n",
            "hats and Cats is famous.\n",
            "Alice and Bob loves hats.\n",
            "Bob tells blue Cats.\n",
            "Bob are Cats.\n",
            "Alice loves blue blue hats.\n",
            "Alice shows Bob.\n",
            "Bob loves blue Cats.\n",
            "Alice are blue hats.\n",
            "Alice and Alice are Bob.\n",
            "Alice who is rich calls Cats.\n",
            "Alice shows blue Alice.\n",
            "Bob and Bob is famous.\n",
            "hats wears blue Bob.\n",
            "Cats wears blue Alice.\n",
            "hats shows blue Cats.\n",
            "Alice who tells Bob is famous.\n",
            "Cats calls Bob.\n",
            "hats and Bob is famous.\n",
            "Cats wears Alice.\n",
            "Alice who is famous loves Cats.\n",
            "Cats calls blue hats.\n",
            "Alice loves blue Bob.\n",
            "Alice and Alice tells hats.\n",
            "Alice and Bob is famous.\n",
            "blue blue Alice is famous.\n",
            "Alice and Alice loves Cats.\n",
            "blue Cats wears hats.\n",
            "Alice who is famous shows Cats.\n",
            "Bob calls blue Bob.\n",
            "Alice loves blue blue Cats.\n",
            "blue blue hats is famous.\n",
            "Alice who is rich shows Alice.\n",
            "Alice and Alice calls Bob.\n",
            "Cats loves hats.\n",
            "Alice tells Bob.\n",
            "Alice who are Bob is rich.\n",
            "Alice who tells hats is famous.\n",
            "blue Alice shows Alice.\n",
            "Alice who calls hats is rich.\n",
            "Alice and Alice are Cats.\n",
            "Bob who is rich is rich.\n",
            "Bob tells blue hats.\n",
            "hats loves blue hats.\n",
            "hats wears Alice.\n",
            "hats loves blue Cats.\n",
            "hats loves Bob.\n",
            "blue Cats tells Bob.\n",
            "hats are Alice.\n",
            "blue Bob tells Cats.\n",
            "Alice who wears Cats is famous.\n",
            "Alice wears blue Alice.\n",
            "Bob tells Bob.\n",
            "blue Cats are Bob.\n",
            "blue Cats shows Bob.\n",
            "Alice who is famous are Alice.\n",
            "Alice who is rich calls Bob.\n",
            "hats loves Cats.\n",
            "blue hats are Alice.\n",
            "Alice loves blue Alice.\n",
            "blue Bob shows Bob.\n",
            "blue Alice calls Cats.\n",
            "Alice and Bob loves Bob.\n",
            "Alice who are hats is rich.\n",
            "Alice who is rich wears Bob.\n",
            "hats loves hats.\n",
            "blue blue Bob is famous.\n",
            "blue hats loves hats.\n",
            "Alice who is famous wears hats.\n",
            "Alice wears Cats.\n",
            "Bob shows Alice.\n",
            "Alice calls hats.\n",
            "Alice who is rich loves hats.\n",
            "Alice who shows Alice is famous.\n",
            "Alice tells blue Alice.\n",
            "blue Cats shows Alice.\n",
            "Alice who are Alice is famous.\n",
            "Alice who is famous loves Bob.\n",
            "blue Bob loves Cats.\n",
            "Bob shows blue Bob.\n",
            "Alice and Alice loves hats.\n",
            "Alice and Alice shows Bob.\n",
            "blue Alice shows Cats.\n",
            "blue hats calls Alice.\n",
            "Cats calls Cats.\n",
            "Cats and Alice is rich.\n",
            "Alice who are Cats is famous.\n",
            "blue hats tells Bob.\n",
            "Bob wears Cats.\n",
            "Alice who loves Bob is rich.\n",
            "Alice who is famous are Bob.\n",
            "Cats wears blue Bob.\n",
            "Bob loves hats.\n",
            "blue Alice are Alice.\n",
            "blue hats loves Bob.\n",
            "blue Cats calls Cats.\n",
            "Cats are blue Bob.\n",
            "Cats loves Cats.\n",
            "blue Alice loves Cats.\n",
            "Alice shows Alice.\n",
            "Alice who shows Cats is famous.\n",
            "blue Alice are Cats.\n",
            "Cats tells blue Bob.\n",
            "Alice and Alice calls Alice.\n",
            "blue hats tells Alice.\n",
            "blue Bob calls Cats.\n",
            "Alice wears blue Cats.\n",
            "Alice wears blue Bob.\n",
            "Cats is famous.\n",
            "hats shows Bob.\n",
            "Alice who shows Alice is rich.\n",
            "Alice who is famous calls Cats.\n",
            "Alice who is rich are Bob.\n",
            "Alice who wears Alice is famous.\n",
            "Bob shows blue hats.\n",
            "hats and hats is rich.\n",
            "blue Bob shows Cats.\n",
            "Bob who is rich is famous.\n",
            "blue Alice wears Bob.\n",
            "Bob calls Alice.\n",
            "Alice shows blue blue Cats.\n",
            "blue Bob tells hats.\n",
            "Alice and hats is famous.\n",
            "blue Alice wears Alice.\n",
            "Bob loves Cats.\n",
            "Alice who are hats is famous.\n",
            "Alice calls blue Alice.\n",
            "Alice who wears Cats is rich.\n",
            "hats tells blue Bob.\n",
            "Alice loves blue blue Bob.\n",
            "blue Bob tells Alice.\n",
            "Alice who is rich shows Bob.\n",
            "Alice calls blue blue hats.\n",
            "Alice who is famous calls hats.\n",
            "Alice are Cats.\n",
            "Cats wears blue Cats.\n",
            "Alice who is rich are Alice.\n",
            "blue Cats loves Bob.\n",
            "Alice loves blue Cats.\n",
            "blue Alice calls Bob.\n",
            "Cats calls blue Cats.\n",
            "blue hats shows hats.\n",
            "Alice who calls Alice is famous.\n",
            "blue Bob are Bob.\n",
            "Alice and Alice shows Alice.\n",
            "Alice and Bob loves Alice.\n",
            "blue hats loves Alice.\n",
            "Alice who is rich wears Cats.\n",
            "blue hats tells Cats.\n",
            "Alice shows blue blue hats.\n",
            "hats shows blue Alice.\n",
            "hats wears blue Cats.\n",
            "blue Bob is rich.\n",
            "Cats who is famous is rich.\n",
            "Cats tells blue hats.\n",
            "blue Bob tells Bob.\n",
            "Bob wears blue hats.\n",
            "Cats shows blue Cats.\n",
            "hats who is rich is famous.\n",
            "blue hats is rich.\n",
            "Bob and Cats is rich.\n",
            "blue hats wears hats.\n",
            "Cats calls Alice.\n",
            "hats shows Cats.\n",
            "Alice who tells Cats is famous.\n",
            "hats shows blue Bob.\n",
            "Alice tells hats.\n",
            "Cats are Cats.\n",
            "hats calls Alice.\n",
            "blue Cats wears Bob.\n",
            "hats are blue hats.\n",
            "Bob shows blue Cats.\n",
            "Alice and Alice wears hats.\n",
            "Bob is famous.\n",
            "hats shows blue hats.\n",
            "blue Cats is rich.\n",
            "blue Alice loves hats.\n",
            "Bob calls blue Alice.\n",
            "Alice who is rich is famous.\n",
            "Bob loves blue Alice.\n",
            "Alice who loves Bob is famous.\n",
            "Alice who is famous shows hats.\n",
            "Alice who loves hats is rich.\n",
            "Cats calls blue Alice.\n",
            "Alice who is famous shows Bob.\n",
            "blue blue hats is rich.\n",
            "Alice tells blue hats.\n",
            "blue Cats are Cats.\n",
            "Alice and Alice is rich.\n",
            "hats are Bob.\n",
            "blue Alice tells hats.\n",
            "Cats wears Cats.\n",
            "blue hats wears Bob.\n",
            "Alice who is rich loves Cats.\n",
            "Alice and Alice shows Cats.\n",
            "blue blue Cats is famous.\n",
            "Alice shows blue Cats.\n",
            "Cats who is famous is famous.\n",
            "Alice are blue Bob.\n",
            "Alice who is rich are hats.\n",
            "Cats and Cats is famous.\n",
            "Bob are blue hats.\n",
            "blue blue Cats is rich.\n",
            "Alice are Bob.\n",
            "blue Bob wears hats.\n",
            "Alice and Alice wears Alice.\n",
            "blue hats shows Alice.\n",
            "hats who is famous is famous.\n",
            "hats tells hats.\n",
            "Alice who is rich tells Bob.\n",
            "Alice and Alice wears Bob.\n",
            "Bob calls blue hats.\n",
            "Bob are hats.\n",
            "Alice loves blue hats.\n",
            "Alice who is rich wears Alice.\n",
            "hats loves Alice.\n",
            "Cats calls hats.\n",
            "Bob loves Alice.\n",
            "Cats tells blue Cats.\n",
            "Alice who are Cats is rich.\n",
            "Bob are blue Bob.\n",
            "Alice who is famous loves hats.\n",
            "blue Bob calls Bob.\n",
            "Alice who shows Bob is famous.\n",
            "hats calls hats.\n",
            "Alice and Alice tells Cats.\n",
            "Cats are blue Alice.\n",
            "Alice who is famous wears Cats.\n",
            "Alice who is famous wears Alice.\n",
            "blue blue Bob is rich.\n",
            "Alice and Alice are hats.\n",
            "blue Bob loves Alice.\n",
            "Cats wears hats.\n",
            "Alice calls Alice.\n",
            "Alice shows blue blue Alice.\n",
            "Bob wears hats.\n"
          ]
        }
      ]
    },
    {
      "cell_type": "code",
      "source": [
        "def loss(params, sentences=sentence_train):\n",
        "    return - np.mean(np.array([\n",
        "        (corpus[sentence] - scalar) ** 2\n",
        "        for sentence, scalar in zip(sentences, evaluate(params, sentences))]))"
      ],
      "metadata": {
        "id": "0P9KriZrdheE"
      },
      "execution_count": null,
      "outputs": []
    },
    {
      "cell_type": "code",
      "source": [
        "from random import random, seed; seed(337)\n",
        "\n",
        "params = np.array([random(), random()])\n",
        "\n",
        "print(\"Random initialisation: {}\".format(params))\n",
        "\n",
        "print(\"\\nIs Alice who loves Bob rich?\")\n",
        "print(\"Yes, she is.\"\n",
        "      if evaluate(params, ['Alice who loves Bob is rich.'])[0] > .5 + delta\n",
        "      else \"No, she isn't.\")"
      ],
      "metadata": {
        "id": "agMbWAIudkB9",
        "colab": {
          "base_uri": "https://localhost:8080/"
        },
        "outputId": "6cda78c8-9b6a-4f76-ed56-1fdb0a73bf9e"
      },
      "execution_count": null,
      "outputs": [
        {
          "output_type": "stream",
          "name": "stdout",
          "text": [
            "Random initialisation: [0.2018591  0.83909858]\n",
            "\n",
            "Is Alice who loves Bob rich?\n",
            "No, she isn't.\n"
          ]
        }
      ]
    },
    {
      "cell_type": "code",
      "source": [
        "!pip install noisyopt"
      ],
      "metadata": {
        "id": "u2gl9RKWdr2p",
        "colab": {
          "base_uri": "https://localhost:8080/"
        },
        "outputId": "75b5a7a1-6564-4381-f99e-8a67743f0b92"
      },
      "execution_count": null,
      "outputs": [
        {
          "output_type": "stream",
          "name": "stdout",
          "text": [
            "Requirement already satisfied: noisyopt in /usr/local/lib/python3.7/dist-packages (0.2.2)\n",
            "Requirement already satisfied: numpy in /usr/local/lib/python3.7/dist-packages (from noisyopt) (1.21.6)\n",
            "Requirement already satisfied: scipy in /usr/local/lib/python3.7/dist-packages (from noisyopt) (1.7.3)\n"
          ]
        }
      ]
    },
    {
      "cell_type": "code",
      "source": [
        "import noisyopt\n",
        "\n",
        "i, start = 0, time()\n",
        "\n",
        "def callback(params):\n",
        "    global i\n",
        "    i += 1\n",
        "    print(\"Epoch {} ({:.0f} seconds since start): {}\".format(i, time() - start, params))\n",
        "\n",
        "result = noisyopt.minimizeSPSA(\n",
        "    loss, params, paired=False, callback=callback, niter=10, a=2)\n",
        "result"
      ],
      "metadata": {
        "id": "fvrIQnzldmdF",
        "colab": {
          "base_uri": "https://localhost:8080/"
        },
        "outputId": "54dc5295-82b4-4b43-a082-a43243710b5d"
      },
      "execution_count": null,
      "outputs": [
        {
          "output_type": "stream",
          "name": "stdout",
          "text": [
            "Epoch 1 (77 seconds since start): [0.2018591  0.83909858]\n",
            "Epoch 2 (150 seconds since start): [0.19083937 0.85011832]\n",
            "Epoch 3 (198 seconds since start): [0.25664059 0.91591953]\n",
            "Epoch 4 (255 seconds since start): [0.36807678 0.80448334]\n",
            "Epoch 5 (301 seconds since start): [0.4733248  0.69923532]\n",
            "Epoch 6 (348 seconds since start): [0.43908037 0.73347975]\n",
            "Epoch 7 (395 seconds since start): [0.45294582 0.7196143 ]\n",
            "Epoch 8 (441 seconds since start): [0.58275431 0.84942279]\n",
            "Epoch 9 (490 seconds since start): [0.47495798 0.95721912]\n",
            "Epoch 10 (538 seconds since start): [0.49248754 0.93968957]\n"
          ]
        },
        {
          "output_type": "execute_result",
          "data": {
            "text/plain": [
              "     fun: -0.00017993164062500032\n",
              " message: 'terminated after reaching max number of iterations'\n",
              "    nfev: 20\n",
              "     nit: 10\n",
              " success: True\n",
              "       x: array([0.49248754, 0.93968957])"
            ]
          },
          "metadata": {},
          "execution_count": 170
        }
      ]
    },
    {
      "cell_type": "code",
      "source": [
        "print(\"Testing loss: {}\".format(loss(result.x, sentences=sentence_test)))"
      ],
      "metadata": {
        "id": "qK-hSLWEdozx",
        "colab": {
          "base_uri": "https://localhost:8080/"
        },
        "outputId": "14edd999-84b0-499f-8710-a37b39607c9d"
      },
      "execution_count": null,
      "outputs": [
        {
          "output_type": "stream",
          "name": "stdout",
          "text": [
            "Testing loss: -0.00030639648437500073\n"
          ]
        }
      ]
    },
    {
      "cell_type": "code",
      "source": [
        "print(\"Is Alice who loves cats?\")\n",
        "print(\"Yes, she is.\"\n",
        "      if evaluate(result.x, ['Alice loves Cats.'])[0] > .5 + delta\n",
        "      else \"No, she isn't.\")"
      ],
      "metadata": {
        "id": "Qjp4nYPbdzgK",
        "colab": {
          "base_uri": "https://localhost:8080/"
        },
        "outputId": "333b480e-7ca1-4cd2-f9e6-3963b7ad8b52"
      },
      "execution_count": null,
      "outputs": [
        {
          "output_type": "stream",
          "name": "stdout",
          "text": [
            "Is Alice who loves cats?\n",
            "Yes, she is.\n"
          ]
        }
      ]
    },
    {
      "cell_type": "code",
      "source": [
        "print(\"Is Alice who shows blue cats?\")\n",
        "print(\"Yes.\"\n",
        "      if evaluate(result.x, ['Alice shows blue Cats.'])[0] > .5 + delta\n",
        "      else \"No\")"
      ],
      "metadata": {
        "id": "6eFIWnNSviqQ",
        "colab": {
          "base_uri": "https://localhost:8080/"
        },
        "outputId": "fe61b11e-7bbc-4d41-b2c5-218c4034be67"
      },
      "execution_count": null,
      "outputs": [
        {
          "output_type": "stream",
          "name": "stdout",
          "text": [
            "Is Alice who shows blue cats?\n",
            "No\n"
          ]
        }
      ]
    }
  ]
}